{
  "nbformat": 4,
  "nbformat_minor": 0,
  "metadata": {
    "colab": {
      "name": " chest_XRAY.ipynb",
      "version": "0.3.2",
      "provenance": [],
      "include_colab_link": true
    },
    "kernelspec": {
      "display_name": "Python 3",
      "language": "python",
      "name": "python3"
    },
    "accelerator": "GPU"
  },
  "cells": [
    {
      "cell_type": "markdown",
      "metadata": {
        "id": "view-in-github",
        "colab_type": "text"
      },
      "source": [
        "<a href=\"https://colab.research.google.com/github/wikiviggy/Chest-X-Ray-predictor/blob/master/chest_XRAY.ipynb\" target=\"_parent\"><img src=\"https://colab.research.google.com/assets/colab-badge.svg\" alt=\"Open In Colab\"/></a>"
      ]
    },
    {
      "metadata": {
        "colab_type": "code",
        "id": "OYL8Z8Og_yOQ",
        "outputId": "1ae43fc1-8b6f-40fe-c961-a23d52d5ec6c",
        "colab": {
          "base_uri": "https://localhost:8080/",
          "height": 121
        }
      },
      "cell_type": "code",
      "source": [
        "! git clone https://github.com/wikiviggy/Visiondataset.git"
      ],
      "execution_count": 2,
      "outputs": [
        {
          "output_type": "stream",
          "text": [
            "Cloning into 'Visiondataset'...\n",
            "remote: Enumerating objects: 368, done.\u001b[K\n",
            "remote: Counting objects: 100% (368/368), done.\u001b[K\n",
            "remote: Compressing objects: 100% (368/368), done.\u001b[K\n",
            "remote: Total 368 (delta 0), reused 368 (delta 0), pack-reused 0\u001b[K\n",
            "Receiving objects: 100% (368/368), 61.87 MiB | 13.12 MiB/s, done.\n"
          ],
          "name": "stdout"
        }
      ]
    },
    {
      "metadata": {
        "colab_type": "code",
        "id": "X1U7z39p_9k1",
        "outputId": "7eb508f1-3250-4f41-b9e1-d91a5b35f8d6",
        "colab": {
          "base_uri": "https://localhost:8080/",
          "height": 89
        }
      },
      "cell_type": "code",
      "source": [
        "# http://pytorch.org/\n",
        "from os.path import exists\n",
        "from wheel.pep425tags import get_abbr_impl, get_impl_ver, get_abi_tag\n",
        "platform = '{}{}-{}'.format(get_abbr_impl(), get_impl_ver(), get_abi_tag())\n",
        "cuda_output = !ldconfig -p|grep cudart.so|sed -e 's/.*\\.\\([0-9]*\\)\\.\\([0-9]*\\)$/cu\\1\\2/'\n",
        "accelerator = cuda_output[0] if exists('/dev/nvidia0') else 'cpu'\n",
        "\n",
        "!pip install -q http://download.pytorch.org/whl/{accelerator}/torch-0.4.1-{platform}-linux_x86_64.whl torchvision\n",
        "import torch"
      ],
      "execution_count": 4,
      "outputs": [
        {
          "output_type": "stream",
          "text": [
            "\u001b[31m  HTTP error 403 while getting http://download.pytorch.org/whl/cu100/torch-0.4.1-cp36-cp36m-linux_x86_64.whl\u001b[0m\n",
            "\u001b[31m  Could not install requirement torch==0.4.1 from http://download.pytorch.org/whl/cu100/torch-0.4.1-cp36-cp36m-linux_x86_64.whl because of error 403 Client Error: Forbidden for url: http://download.pytorch.org/whl/cu100/torch-0.4.1-cp36-cp36m-linux_x86_64.whl\u001b[0m\n",
            "\u001b[31mCould not install requirement torch==0.4.1 from http://download.pytorch.org/whl/cu100/torch-0.4.1-cp36-cp36m-linux_x86_64.whl because of HTTP error 403 Client Error: Forbidden for url: http://download.pytorch.org/whl/cu100/torch-0.4.1-cp36-cp36m-linux_x86_64.whl for URL http://download.pytorch.org/whl/cu100/torch-0.4.1-cp36-cp36m-linux_x86_64.whl\u001b[0m\n"
          ],
          "name": "stdout"
        }
      ]
    },
    {
      "metadata": {
        "colab_type": "code",
        "id": "_GMRseDHAC-0",
        "colab": {}
      },
      "cell_type": "code",
      "source": [
        "import torchvision \n",
        "import torch.nn as nn\n",
        "import torch.optim as optim \n",
        "from torchvision import datasets , models , transforms \n",
        "from torch.optim import lr_scheduler \n",
        "import numpy as np \n",
        "import matplotlib.pyplot as plt \n",
        "import time \n",
        "import os \n",
        "import copy \n"
      ],
      "execution_count": 0,
      "outputs": []
    },
    {
      "metadata": {
        "colab_type": "code",
        "id": "9bf1fLoaAIsf",
        "colab": {}
      },
      "cell_type": "code",
      "source": [
        "# As VGG16 requires the data in certain form so ,we are transforming the data as per required(normalization)\n",
        "train_datatransform = transforms.Compose([transforms.RandomResizedCrop(224),\n",
        "                                         transforms.RandomHorizontalFlip(),\n",
        "                                         transforms.ToTensor(),\n",
        "                                         transforms.Normalize([0.485 , 0.456 ,0.406] ,[0.229 , 0.224 , 0.225])])\n",
        "test_datatrannsform = transforms.Compose([transforms.RandomResizedCrop(224), \n",
        "                                         transforms.RandomHorizontalFlip(),\n",
        "                                         transforms.ToTensor(), \n",
        "                                         transforms.Normalize([0.485 ,0.456 ,0.406] ,[0.229 , 0.224 ,0.225])])"
      ],
      "execution_count": 0,
      "outputs": []
    },
    {
      "metadata": {
        "colab_type": "code",
        "id": "KHI1M4G6ANEQ",
        "colab": {}
      },
      "cell_type": "code",
      "source": [
        "#Yeah , we need to export the data that we have created \n",
        "train_image_dataset = datasets.ImageFolder(root='./Visiondataset/train',transform=train_datatransform )\n",
        "test_image_dataset = datasets.ImageFolder(root ='./Visiondataset/test', transform=test_datatrannsform)"
      ],
      "execution_count": 0,
      "outputs": []
    },
    {
      "metadata": {
        "colab_type": "code",
        "id": "xTOs6REJAQFG",
        "colab": {}
      },
      "cell_type": "code",
      "source": [
        "#DataLoader - Load the train and test data in the form of batches\n",
        "\n",
        "train_dataloader = torch.utils.data.DataLoader(train_image_dataset , batch_size =4 ,shuffle=True , num_workers=4 )\n",
        "test_dataloader = torch.utils.data.DataLoader(test_image_dataset , batch_size = 4 , shuffle= True , num_workers=4)"
      ],
      "execution_count": 0,
      "outputs": []
    },
    {
      "metadata": {
        "colab_type": "code",
        "id": "4Ha8vQQdAXrE",
        "outputId": "77627071-8cab-4d06-cfcb-19912b2ad4e3",
        "colab": {
          "base_uri": "https://localhost:8080/",
          "height": 52
        }
      },
      "cell_type": "code",
      "source": [
        "class_names = train_image_dataset.classes\n",
        "print(class_names)\n",
        "device = torch.device(\"cuda:0\" if torch.cuda.is_available() else \"cpu\")\n",
        "print(device)"
      ],
      "execution_count": 9,
      "outputs": [
        {
          "output_type": "stream",
          "text": [
            "['cardiomegaly', 'normal', 'opacity']\n",
            "cuda:0\n"
          ],
          "name": "stdout"
        }
      ]
    },
    {
      "metadata": {
        "colab_type": "code",
        "id": "RpQd86qHAqxU",
        "outputId": "0a8e963e-59fb-400b-bb99-3a034f11ad6a",
        "colab": {
          "base_uri": "https://localhost:8080/",
          "height": 211
        }
      },
      "cell_type": "code",
      "source": [
        "!pip install Pillow==4.0.0\n",
        "!pip install PIL\n",
        "!pip install image\n",
        "import PIL"
      ],
      "execution_count": 10,
      "outputs": [
        {
          "output_type": "stream",
          "text": [
            "Requirement already satisfied: Pillow==4.0.0 in /usr/local/lib/python3.6/dist-packages (4.0.0)\n",
            "Requirement already satisfied: olefile in /usr/local/lib/python3.6/dist-packages (from Pillow==4.0.0) (0.46)\n",
            "Collecting PIL\n",
            "\u001b[31m  Could not find a version that satisfies the requirement PIL (from versions: )\u001b[0m\n",
            "\u001b[31mNo matching distribution found for PIL\u001b[0m\n",
            "Requirement already satisfied: image in /usr/local/lib/python3.6/dist-packages (1.5.27)\n",
            "Requirement already satisfied: pillow in /usr/local/lib/python3.6/dist-packages (from image) (4.0.0)\n",
            "Requirement already satisfied: django in /usr/local/lib/python3.6/dist-packages (from image) (2.1.7)\n",
            "Requirement already satisfied: olefile in /usr/local/lib/python3.6/dist-packages (from pillow->image) (0.46)\n",
            "Requirement already satisfied: pytz in /usr/local/lib/python3.6/dist-packages (from django->image) (2018.9)\n"
          ],
          "name": "stdout"
        }
      ]
    },
    {
      "metadata": {
        "colab_type": "code",
        "id": "dbwKzgrKBHtM",
        "outputId": "d30bc8b4-f063-4662-e146-e087232781f3",
        "colab": {
          "base_uri": "https://localhost:8080/",
          "height": 175
        }
      },
      "cell_type": "code",
      "source": [
        "def imshow(inp, title=None):\n",
        "    \"\"\"Imshow for Tensor.\"\"\"\n",
        "    inp = inp.numpy().transpose((1, 2, 0))\n",
        "    mean = np.array([0.485, 0.456, 0.406])\n",
        "    std = np.array([0.229, 0.224, 0.225])\n",
        "    inp = std * inp + mean\n",
        "    inp = np.clip(inp, 0, 1)\n",
        "    plt.imshow(inp)\n",
        "    if title is not None:\n",
        "        plt.title(title)\n",
        "    plt.pause(0.001)  # pause a bit so that plots are updated\n",
        "\n",
        "\n",
        "# Get a batch of training data\n",
        "inputs, classes = next(iter(train_dataloader))\n",
        "\n",
        "# Make a grid from batch\n",
        "out = torchvision.utils.make_grid(inputs)\n",
        "\n",
        "imshow(out, title=[class_names[x] for x in classes])\n"
      ],
      "execution_count": 11,
      "outputs": [
        {
          "output_type": "display_data",
          "data": {
            "image/png": "[encoded data removed]",
            "text/plain": [
              "<Figure size 576x396 with 1 Axes>"
            ]
          },
          "metadata": {
            "tags": []
          }
        }
      ]
    },
    {
      "metadata": {
        "colab_type": "code",
        "id": "5--HwZ-5Bh9V",
        "colab": {}
      },
      "cell_type": "code",
      "source": [
        "def train_model(model , criterion , optimizer , scheduler ,num_epochs):\n",
        "  since =time.time()\n",
        "  best_acc =0.0\n",
        "  best_model_wts = copy.deepcopy(model.state_dict())\n",
        "  \n",
        "  for epoch in range(num_epochs):\n",
        "    print('Epoch {}/{}'.format(epoch , num_epochs -1))\n",
        "    print('-'*10)\n",
        "    \n",
        "    scheduler.step()\n",
        "    model.train()\n",
        "    \n",
        "    running_loss = 0.0 \n",
        "    running_corrects = 0\n",
        "    \n",
        "    for inputs , labels in train_dataloader:\n",
        "      inputs = inputs.to(device)\n",
        "      labels = labels.to(device)\n",
        "      \n",
        "      optimizer.zero_grad()\n",
        "      \n",
        "      outputs = model(inputs)\n",
        "      _, preds = torch.max(outputs , 1)\n",
        "      loss = criterion(outputs , labels)\n",
        "      \n",
        "      loss.backward()\n",
        "      optimizer.step()\n",
        "      \n",
        "      running_loss += loss.item() *inputs.size(0)\n",
        "      running_corrects += torch.sum(preds == labels.data)\n",
        "      \n",
        "    epoch_loss = running_loss / len(train_image_dataset)\n",
        "    epoch_acc = running_corrects.double() / len(train_image_dataset)\n",
        "    \n",
        "    print('Loss : {}  Acc :{}'.format(epoch_loss , epoch_acc))\n",
        "    \n",
        "    if epoch_acc > best_acc:\n",
        "      best_acc =epoch_acc \n",
        "      best_model_wts = copy.deepcopy(model.state_dict())\n",
        "    \n",
        "  time_elapsed = time.time() - since\n",
        "  print('Training complete in {:.0f}m {:.0f}s'.format(\n",
        "        time_elapsed // 60, time_elapsed % 60))\n",
        "    \n",
        "    \n",
        "    \n",
        "  model.load_state_dict(best_model_wts)\n",
        "  return model\n",
        "  "
      ],
      "execution_count": 0,
      "outputs": []
    },
    {
      "metadata": {
        "colab_type": "code",
        "id": "o7opN-l2EgUW",
        "colab": {}
      },
      "cell_type": "code",
      "source": [
        "def set_require_grad(model , feature_extract):\n",
        "  if feature_extract:\n",
        "    for param in model.parameters():\n",
        "      param.require_grad=False"
      ],
      "execution_count": 0,
      "outputs": []
    },
    {
      "metadata": {
        "colab_type": "code",
        "id": "lOFjZqpJE35V",
        "colab": {
          "base_uri": "https://localhost:8080/",
          "height": 72
        },
        "outputId": "52440095-d536-4224-bc09-c341fcc8e59f"
      },
      "cell_type": "code",
      "source": [
        "#VGG16\n",
        "model_ft = models.vgg16_bn(pretrained =True)\n",
        "set_require_grad(model_ft,False)\n",
        "num_features = model_ft.classifier[6].in_features\n",
        "features = list(model_ft.classifier.children())[:-1] # Remove last layer\n",
        "features.extend([nn.Linear(num_features, len(class_names))]) # Add our layer with 4 outputs\n",
        "model_ft.classifier = nn.Sequential(*features)\n",
        "\n",
        "model_ft = model_ft.to(device)\n",
        "\n",
        "criterion = nn.CrossEntropyLoss()\n",
        "\n",
        "optimizer_ft = optim.SGD(model_ft.parameters() , lr = 0.0015 , momentum =0.9)\n",
        "\n",
        "exp_lr_scheduler = lr_scheduler.StepLR(optimizer_ft,step_size =7 ,gamma=0.1)\n"
      ],
      "execution_count": 14,
      "outputs": [
        {
          "output_type": "stream",
          "text": [
            "Downloading: \"https://download.pytorch.org/models/vgg16_bn-6c64b313.pth\" to /root/.torch/models/vgg16_bn-6c64b313.pth\n",
            "553507836it [00:06, 90516898.59it/s]\n"
          ],
          "name": "stderr"
        }
      ]
    },
    {
      "metadata": {
        "id": "JX8Aqf5nWscp",
        "colab_type": "code",
        "outputId": "913fbc29-81e1-4c9b-e064-5b2bd8d903b0",
        "colab": {
          "base_uri": "https://localhost:8080/",
          "height": 72
        }
      },
      "cell_type": "code",
      "source": [
        "#DENSENET 121\n",
        "model_dn  = models.densenet121(pretrained=True)\n",
        "set_require_grad(model_dn,False)\n",
        "features = list(model_dn.classifier.children())[:-1] # Remove last layer\n",
        "features.extend([nn.Linear(1024, len(class_names))]) # Add our layer with 4 outputs\n",
        "model_dn.classifier = nn.Sequential(*features)\n",
        "\n",
        "model_dn = model_dn.to(device)\n",
        "\n",
        "criterion = nn.CrossEntropyLoss()\n",
        "\n",
        "optimizer_dn = optim.SGD(model_dn.parameters() , lr = 0.002 , momentum =0.95)\n",
        "\n",
        "exp_lr_scheduler = lr_scheduler.StepLR(optimizer_dn,step_size = 7 ,gamma=0.1)"
      ],
      "execution_count": 19,
      "outputs": [
        {
          "output_type": "stream",
          "text": [
            "/usr/local/lib/python3.6/dist-packages/torchvision/models/densenet.py:212: UserWarning: nn.init.kaiming_normal is now deprecated in favor of nn.init.kaiming_normal_.\n",
            "  nn.init.kaiming_normal(m.weight.data)\n"
          ],
          "name": "stderr"
        }
      ]
    },
    {
      "metadata": {
        "id": "CsiGzCwmXP1L",
        "colab_type": "code",
        "colab": {}
      },
      "cell_type": "code",
      "source": [
        "#RESNET 50\n",
        "model_res = models.resnet50(pretrained=True)\n",
        "set_require_grad(model_res,False)\n",
        "features = list(model_res.children())[:-1] # Remove last layer\n",
        "features.extend([nn.Linear(2048, len(class_names))]) # Add our layer with 4 outputs\n",
        "model_res.classifier = nn.Sequential(*features)\n",
        "\n",
        "model_res = model_res.to(device)\n",
        "\n",
        "criterion = nn.CrossEntropyLoss()\n",
        "\n",
        "optimizer_res = optim.SGD(model_res.parameters() , lr = 0.0016 , momentum =0.9)\n",
        "\n",
        "exp_lr_scheduler = lr_scheduler.StepLR(optimizer_dn,step_size = 7 ,gamma=0.1)"
      ],
      "execution_count": 0,
      "outputs": []
    },
    {
      "metadata": {
        "colab_type": "code",
        "id": "awGTIhmuGPYE",
        "outputId": "ebee1f6a-60bd-420d-9549-56f085b57230",
        "colab": {
          "base_uri": "https://localhost:8080/",
          "height": 2635
        }
      },
      "cell_type": "code",
      "source": [
        "#VGG16\n",
        "model_ft = train_model(model_ft , criterion , optimizer_ft , exp_lr_scheduler , num_epochs = 50)"
      ],
      "execution_count": 18,
      "outputs": [
        {
          "output_type": "stream",
          "text": [
            "Epoch 0/49\n",
            "----------\n",
            "Loss : 0.7022805255220597  Acc :0.7710843373493976\n",
            "Epoch 1/49\n",
            "----------\n",
            "Loss : 0.6654110006898283  Acc :0.7801204819277109\n",
            "Epoch 2/49\n",
            "----------\n",
            "Loss : 0.6798924166395004  Acc :0.7710843373493976\n",
            "Epoch 3/49\n",
            "----------\n",
            "Loss : 0.6522412423986986  Acc :0.7680722891566265\n",
            "Epoch 4/49\n",
            "----------\n",
            "Loss : 0.625839711312788  Acc :0.786144578313253\n",
            "Epoch 5/49\n",
            "----------\n",
            "Loss : 0.6361937120736364  Acc :0.7650602409638555\n",
            "Epoch 6/49\n",
            "----------\n",
            "Loss : 0.6581904119755848  Acc :0.783132530120482\n",
            "Epoch 7/49\n",
            "----------\n",
            "Loss : 0.6043322799076517  Acc :0.7710843373493976\n",
            "Epoch 8/49\n",
            "----------\n",
            "Loss : 0.5704970661416111  Acc :0.7801204819277109\n",
            "Epoch 9/49\n",
            "----------\n",
            "Loss : 0.6049467842262911  Acc :0.7981927710843374\n",
            "Epoch 10/49\n",
            "----------\n",
            "Loss : 0.6032993592411638  Acc :0.7680722891566265\n",
            "Epoch 11/49\n",
            "----------\n",
            "Loss : 0.5363769669489689  Acc :0.7951807228915663\n",
            "Epoch 12/49\n",
            "----------\n",
            "Loss : 0.5634318058749279  Acc :0.7981927710843374\n",
            "Epoch 13/49\n",
            "----------\n",
            "Loss : 0.6028092352740736  Acc :0.7951807228915663\n",
            "Epoch 14/49\n",
            "----------\n",
            "Loss : 0.5042642349579248  Acc :0.8253012048192772\n",
            "Epoch 15/49\n",
            "----------\n",
            "Loss : 0.527530011462878  Acc :0.786144578313253\n",
            "Epoch 16/49\n",
            "----------\n",
            "Loss : 0.5636367171284664  Acc :0.8102409638554218\n",
            "Epoch 17/49\n",
            "----------\n",
            "Loss : 0.5335095594805407  Acc :0.7981927710843374\n",
            "Epoch 18/49\n",
            "----------\n",
            "Loss : 0.4936679788382657  Acc :0.8042168674698795\n",
            "Epoch 19/49\n",
            "----------\n",
            "Loss : 0.5063238962587103  Acc :0.8373493975903615\n",
            "Epoch 20/49\n",
            "----------\n",
            "Loss : 0.4854830648884716  Acc :0.8343373493975904\n",
            "Epoch 21/49\n",
            "----------\n",
            "Loss : 0.41608330176537295  Acc :0.8373493975903615\n",
            "Epoch 22/49\n",
            "----------\n",
            "Loss : 0.5081725104386547  Acc :0.8313253012048193\n",
            "Epoch 23/49\n",
            "----------\n",
            "Loss : 0.502218114683427  Acc :0.8132530120481928\n",
            "Epoch 24/49\n",
            "----------\n",
            "Loss : 0.4408079924353634  Acc :0.8463855421686748\n",
            "Epoch 25/49\n",
            "----------\n",
            "Loss : 0.4421396549925747  Acc :0.8373493975903615\n",
            "Epoch 26/49\n",
            "----------\n",
            "Loss : 0.4008281785680587  Acc :0.8644578313253013\n",
            "Epoch 27/49\n",
            "----------\n",
            "Loss : 0.4346697897796171  Acc :0.8433734939759037\n",
            "Epoch 28/49\n",
            "----------\n",
            "Loss : 0.42054043548652925  Acc :0.8253012048192772\n",
            "Epoch 29/49\n",
            "----------\n",
            "Loss : 0.4188118487237448  Acc :0.8343373493975904\n",
            "Epoch 30/49\n",
            "----------\n",
            "Loss : 0.4023491684571806  Acc :0.8313253012048193\n",
            "Epoch 31/49\n",
            "----------\n",
            "Loss : 0.3705498723380537  Acc :0.855421686746988\n",
            "Epoch 32/49\n",
            "----------\n",
            "Loss : 0.40952741112335617  Acc :0.858433734939759\n",
            "Epoch 33/49\n",
            "----------\n",
            "Loss : 0.3980164962360658  Acc :0.8644578313253013\n",
            "Epoch 34/49\n",
            "----------\n",
            "Loss : 0.30624752877706507  Acc :0.9036144578313253\n",
            "Epoch 35/49\n",
            "----------\n",
            "Loss : 0.40940840362784375  Acc :0.858433734939759\n",
            "Epoch 36/49\n",
            "----------\n",
            "Loss : 0.2996127574917782  Acc :0.8975903614457832\n",
            "Epoch 37/49\n",
            "----------\n",
            "Loss : 0.2935693185013461  Acc :0.8915662650602411\n",
            "Epoch 38/49\n",
            "----------\n",
            "Loss : 0.3694627604570733  Acc :0.8734939759036146\n",
            "Epoch 39/49\n",
            "----------\n",
            "Loss : 0.30687957571213503  Acc :0.8885542168674699\n",
            "Epoch 40/49\n",
            "----------\n",
            "Loss : 0.32520671889006375  Acc :0.8945783132530121\n",
            "Epoch 41/49\n",
            "----------\n",
            "Loss : 0.2797179938439863  Acc :0.9186746987951808\n",
            "Epoch 42/49\n",
            "----------\n",
            "Loss : 0.34093184733247184  Acc :0.8825301204819278\n",
            "Epoch 43/49\n",
            "----------\n",
            "Loss : 0.2867208530744874  Acc :0.9006024096385543\n",
            "Epoch 44/49\n",
            "----------\n",
            "Loss : 0.31234447388763886  Acc :0.8795180722891567\n",
            "Epoch 45/49\n",
            "----------\n",
            "Loss : 0.2648222577500056  Acc :0.8915662650602411\n",
            "Epoch 46/49\n",
            "----------\n",
            "Loss : 0.304605595677732  Acc :0.8885542168674699\n",
            "Epoch 47/49\n",
            "----------\n",
            "Loss : 0.2487190053405532  Acc :0.9156626506024097\n",
            "Epoch 48/49\n",
            "----------\n",
            "Loss : 0.2313406616449356  Acc :0.9307228915662651\n",
            "Epoch 49/49\n",
            "----------\n",
            "Loss : 0.2708754471267562  Acc :0.9036144578313253\n",
            "Training complete in 23m 49s\n"
          ],
          "name": "stdout"
        }
      ]
    },
    {
      "metadata": {
        "id": "tHpHMMrcZWV5",
        "colab_type": "code",
        "outputId": "c8ad1227-b0c0-4e77-acd1-d1b86437d1c3",
        "colab": {
          "base_uri": "https://localhost:8080/",
          "height": 2635
        }
      },
      "cell_type": "code",
      "source": [
        "#DENSENET\n",
        "model_dn = train_model(model_dn , criterion , optimizer_dn , exp_lr_scheduler , num_epochs = 50)"
      ],
      "execution_count": 23,
      "outputs": [
        {
          "output_type": "stream",
          "text": [
            "Epoch 0/49\n",
            "----------\n",
            "Loss : 1.5194407423217613  Acc :0.6807228915662651\n",
            "Epoch 1/49\n",
            "----------\n",
            "Loss : 1.0828321085995938  Acc :0.710843373493976\n",
            "Epoch 2/49\n",
            "----------\n",
            "Loss : 0.9612957363028124  Acc :0.7560240963855422\n",
            "Epoch 3/49\n",
            "----------\n",
            "Loss : 0.8552796822714518  Acc :0.7620481927710844\n",
            "Epoch 4/49\n",
            "----------\n",
            "Loss : 0.8267226881650557  Acc :0.75\n",
            "Epoch 5/49\n",
            "----------\n",
            "Loss : 0.8077029865908335  Acc :0.75\n",
            "Epoch 6/49\n",
            "----------\n",
            "Loss : 0.8680067635085209  Acc :0.783132530120482\n",
            "Epoch 7/49\n",
            "----------\n",
            "Loss : 0.6869455304849579  Acc :0.783132530120482\n",
            "Epoch 8/49\n",
            "----------\n",
            "Loss : 0.6586856316012072  Acc :0.783132530120482\n",
            "Epoch 9/49\n",
            "----------\n",
            "Loss : 0.6544868739613567  Acc :0.783132530120482\n",
            "Epoch 10/49\n",
            "----------\n",
            "Loss : 0.6546841689262045  Acc :0.783132530120482\n",
            "Epoch 11/49\n",
            "----------\n",
            "Loss : 0.65827195220683  Acc :0.786144578313253\n",
            "Epoch 12/49\n",
            "----------\n",
            "Loss : 0.6192361184631485  Acc :0.7801204819277109\n",
            "Epoch 13/49\n",
            "----------\n",
            "Loss : 0.6298069052667503  Acc :0.786144578313253\n",
            "Epoch 14/49\n",
            "----------\n",
            "Loss : 0.6264307549200863  Acc :0.783132530120482\n",
            "Epoch 15/49\n",
            "----------\n",
            "Loss : 0.6396576347480337  Acc :0.7801204819277109\n",
            "Epoch 16/49\n",
            "----------\n",
            "Loss : 0.5979681982692465  Acc :0.783132530120482\n",
            "Epoch 17/49\n",
            "----------\n",
            "Loss : 0.6078024716621422  Acc :0.783132530120482\n",
            "Epoch 18/49\n",
            "----------\n",
            "Loss : 0.6052790811981064  Acc :0.783132530120482\n",
            "Epoch 19/49\n",
            "----------\n",
            "Loss : 0.6197261106537049  Acc :0.786144578313253\n",
            "Epoch 20/49\n",
            "----------\n",
            "Loss : 0.6401411041796926  Acc :0.783132530120482\n",
            "Epoch 21/49\n",
            "----------\n",
            "Loss : 0.5992018201624054  Acc :0.783132530120482\n",
            "Epoch 22/49\n",
            "----------\n",
            "Loss : 0.6253647969429752  Acc :0.783132530120482\n",
            "Epoch 23/49\n",
            "----------\n",
            "Loss : 0.613706255533609  Acc :0.783132530120482\n",
            "Epoch 24/49\n",
            "----------\n",
            "Loss : 0.6170549051589277  Acc :0.783132530120482\n",
            "Epoch 25/49\n",
            "----------\n",
            "Loss : 0.6330397665859705  Acc :0.783132530120482\n",
            "Epoch 26/49\n",
            "----------\n",
            "Loss : 0.6272204252610724  Acc :0.783132530120482\n",
            "Epoch 27/49\n",
            "----------\n",
            "Loss : 0.6160060291189745  Acc :0.783132530120482\n",
            "Epoch 28/49\n",
            "----------\n",
            "Loss : 0.6184655576944351  Acc :0.783132530120482\n",
            "Epoch 29/49\n",
            "----------\n",
            "Loss : 0.6125870406268591  Acc :0.783132530120482\n",
            "Epoch 30/49\n",
            "----------\n",
            "Loss : 0.6062980908227255  Acc :0.783132530120482\n",
            "Epoch 31/49\n",
            "----------\n",
            "Loss : 0.6210880396236856  Acc :0.783132530120482\n",
            "Epoch 32/49\n",
            "----------\n",
            "Loss : 0.630249892731747  Acc :0.783132530120482\n",
            "Epoch 33/49\n",
            "----------\n",
            "Loss : 0.6235228214996407  Acc :0.786144578313253\n",
            "Epoch 34/49\n",
            "----------\n",
            "Loss : 0.615045376570828  Acc :0.783132530120482\n",
            "Epoch 35/49\n",
            "----------\n",
            "Loss : 0.6110617854149945  Acc :0.783132530120482\n",
            "Epoch 36/49\n",
            "----------\n",
            "Loss : 0.6382010006401913  Acc :0.783132530120482\n",
            "Epoch 37/49\n",
            "----------\n",
            "Loss : 0.6396233179124005  Acc :0.783132530120482\n",
            "Epoch 38/49\n",
            "----------\n",
            "Loss : 0.6191064686660307  Acc :0.783132530120482\n",
            "Epoch 39/49\n",
            "----------\n",
            "Loss : 0.6143371836248651  Acc :0.783132530120482\n",
            "Epoch 40/49\n",
            "----------\n",
            "Loss : 0.6246758650943457  Acc :0.783132530120482\n",
            "Epoch 41/49\n",
            "----------\n",
            "Loss : 0.617827674710607  Acc :0.783132530120482\n",
            "Epoch 42/49\n",
            "----------\n",
            "Loss : 0.6225583388144711  Acc :0.783132530120482\n",
            "Epoch 43/49\n",
            "----------\n",
            "Loss : 0.6177225558154554  Acc :0.783132530120482\n",
            "Epoch 44/49\n",
            "----------\n",
            "Loss : 0.6578496245734663  Acc :0.783132530120482\n",
            "Epoch 45/49\n",
            "----------\n",
            "Loss : 0.6334752095751015  Acc :0.783132530120482\n",
            "Epoch 46/49\n",
            "----------\n",
            "Loss : 0.6044217236788876  Acc :0.783132530120482\n",
            "Epoch 47/49\n",
            "----------\n",
            "Loss : 0.6217926085354334  Acc :0.783132530120482\n",
            "Epoch 48/49\n",
            "----------\n",
            "Loss : 0.6187883963785976  Acc :0.783132530120482\n",
            "Epoch 49/49\n",
            "----------\n",
            "Loss : 0.6130625869495323  Acc :0.783132530120482\n",
            "Training complete in 10m 54s\n"
          ],
          "name": "stdout"
        }
      ]
    },
    {
      "metadata": {
        "id": "HRftFbpaYrjj",
        "colab_type": "code",
        "outputId": "72bc9da7-fe96-401a-8776-084ecc7c7e0e",
        "colab": {
          "base_uri": "https://localhost:8080/",
          "height": 2635
        }
      },
      "cell_type": "code",
      "source": [
        "#RESNET 50\n",
        "model_res = train_model(model_res , criterion , optimizer_res , exp_lr_scheduler , num_epochs = 50)"
      ],
      "execution_count": 25,
      "outputs": [
        {
          "output_type": "stream",
          "text": [
            "Epoch 0/49\n",
            "----------\n",
            "Loss : 1.6723814082432942  Acc :0.713855421686747\n",
            "Epoch 1/49\n",
            "----------\n",
            "Loss : 0.8040681732706276  Acc :0.7349397590361446\n",
            "Epoch 2/49\n",
            "----------\n",
            "Loss : 0.7398511630943022  Acc :0.7771084337349398\n",
            "Epoch 3/49\n",
            "----------\n",
            "Loss : 0.7361949452434677  Acc :0.7620481927710844\n",
            "Epoch 4/49\n",
            "----------\n",
            "Loss : 0.7374646261513952  Acc :0.7680722891566265\n",
            "Epoch 5/49\n",
            "----------\n",
            "Loss : 0.6730501910290086  Acc :0.7710843373493976\n",
            "Epoch 6/49\n",
            "----------\n",
            "Loss : 0.6683200238698936  Acc :0.7710843373493976\n",
            "Epoch 7/49\n",
            "----------\n",
            "Loss : 0.6621700956160763  Acc :0.783132530120482\n",
            "Epoch 8/49\n",
            "----------\n",
            "Loss : 0.6728497930319912  Acc :0.7710843373493976\n",
            "Epoch 9/49\n",
            "----------\n",
            "Loss : 0.6663573276565735  Acc :0.7740963855421688\n",
            "Epoch 10/49\n",
            "----------\n",
            "Loss : 0.6635067620909357  Acc :0.7771084337349398\n",
            "Epoch 11/49\n",
            "----------\n",
            "Loss : 0.7042907921664686  Acc :0.7740963855421688\n",
            "Epoch 12/49\n",
            "----------\n",
            "Loss : 0.6523965726415795  Acc :0.7771084337349398\n",
            "Epoch 13/49\n",
            "----------\n",
            "Loss : 0.6531881481768137  Acc :0.7710843373493976\n",
            "Epoch 14/49\n",
            "----------\n",
            "Loss : 0.6726807772395123  Acc :0.7771084337349398\n",
            "Epoch 15/49\n",
            "----------\n",
            "Loss : 0.6293884171060768  Acc :0.7891566265060241\n",
            "Epoch 16/49\n",
            "----------\n",
            "Loss : 0.6399467939353851  Acc :0.7921686746987953\n",
            "Epoch 17/49\n",
            "----------\n",
            "Loss : 0.6488614283412336  Acc :0.7620481927710844\n",
            "Epoch 18/49\n",
            "----------\n",
            "Loss : 0.6227706929287279  Acc :0.7951807228915663\n",
            "Epoch 19/49\n",
            "----------\n",
            "Loss : 0.6335314095738422  Acc :0.7620481927710844\n",
            "Epoch 20/49\n",
            "----------\n",
            "Loss : 0.6097361122269228  Acc :0.7680722891566265\n",
            "Epoch 21/49\n",
            "----------\n",
            "Loss : 0.6288586610771087  Acc :0.7891566265060241\n",
            "Epoch 22/49\n",
            "----------\n",
            "Loss : 0.6000599660069109  Acc :0.8042168674698795\n",
            "Epoch 23/49\n",
            "----------\n",
            "Loss : 0.649740385721965  Acc :0.786144578313253\n",
            "Epoch 24/49\n",
            "----------\n",
            "Loss : 0.5987304750695286  Acc :0.7771084337349398\n",
            "Epoch 25/49\n",
            "----------\n",
            "Loss : 0.6482812869979675  Acc :0.7801204819277109\n",
            "Epoch 26/49\n",
            "----------\n",
            "Loss : 0.5589955140309162  Acc :0.7801204819277109\n",
            "Epoch 27/49\n",
            "----------\n",
            "Loss : 0.5961458596838526  Acc :0.7740963855421688\n",
            "Epoch 28/49\n",
            "----------\n",
            "Loss : 0.596402797354273  Acc :0.783132530120482\n",
            "Epoch 29/49\n",
            "----------\n",
            "Loss : 0.5972303166446915  Acc :0.7771084337349398\n",
            "Epoch 30/49\n",
            "----------\n",
            "Loss : 0.6191439571150814  Acc :0.7710843373493976\n",
            "Epoch 31/49\n",
            "----------\n",
            "Loss : 0.5650866893400629  Acc :0.786144578313253\n",
            "Epoch 32/49\n",
            "----------\n",
            "Loss : 0.5941660634006363  Acc :0.7951807228915663\n",
            "Epoch 33/49\n",
            "----------\n",
            "Loss : 0.5423763660063227  Acc :0.8132530120481928\n",
            "Epoch 34/49\n",
            "----------\n",
            "Loss : 0.5541063906198525  Acc :0.783132530120482\n",
            "Epoch 35/49\n",
            "----------\n",
            "Loss : 0.5415416137281671  Acc :0.7921686746987953\n",
            "Epoch 36/49\n",
            "----------\n",
            "Loss : 0.5770119184471039  Acc :0.786144578313253\n",
            "Epoch 37/49\n",
            "----------\n",
            "Loss : 0.5497347848961153  Acc :0.8042168674698795\n",
            "Epoch 38/49\n",
            "----------\n",
            "Loss : 0.5699702946536512  Acc :0.8012048192771085\n",
            "Epoch 39/49\n",
            "----------\n",
            "Loss : 0.5331425551908562  Acc :0.7981927710843374\n",
            "Epoch 40/49\n",
            "----------\n",
            "Loss : 0.5561071016702307  Acc :0.7951807228915663\n",
            "Epoch 41/49\n",
            "----------\n",
            "Loss : 0.5499415512544563  Acc :0.822289156626506\n",
            "Epoch 42/49\n",
            "----------\n",
            "Loss : 0.5193275428680052  Acc :0.8012048192771085\n",
            "Epoch 43/49\n",
            "----------\n",
            "Loss : 0.541043746902282  Acc :0.8072289156626506\n",
            "Epoch 44/49\n",
            "----------\n",
            "Loss : 0.473773605852242  Acc :0.8313253012048193\n",
            "Epoch 45/49\n",
            "----------\n",
            "Loss : 0.5135640552244991  Acc :0.8012048192771085\n",
            "Epoch 46/49\n",
            "----------\n",
            "Loss : 0.5046978312802602  Acc :0.819277108433735\n",
            "Epoch 47/49\n",
            "----------\n",
            "Loss : 0.540034523929458  Acc :0.8072289156626506\n",
            "Epoch 48/49\n",
            "----------\n",
            "Loss : 0.49454433946724397  Acc :0.819277108433735\n",
            "Epoch 49/49\n",
            "----------\n",
            "Loss : 0.516613374273461  Acc :0.7981927710843374\n",
            "Training complete in 9m 36s\n"
          ],
          "name": "stdout"
        }
      ]
    },
    {
      "metadata": {
        "colab_type": "code",
        "id": "xLccNGemxQGD",
        "colab": {}
      },
      "cell_type": "code",
      "source": [
        "def eval_model(model , criterion):\n",
        "  \n",
        "  model.eval()\n",
        "  \n",
        "  running_loss = 0.0 \n",
        "  running_corrects = 0\n",
        "  \n",
        "  for inputs , labels in test_dataloader :\n",
        "    inputs = inputs.to(device)\n",
        "    labels = labels.to(device)\n",
        "    \n",
        "    outputs = model(inputs)\n",
        "    _, preds = torch.max(outputs,1)\n",
        "    loss = criterion(outputs , labels)\n",
        "    \n",
        "    running_loss += loss.item() *inputs.size(0)\n",
        "    running_corrects += torch.sum(preds == labels.data)\n",
        "  \n",
        "        \n",
        "  loss = running_loss / len(test_image_dataset)\n",
        "  acc = running_corrects.double() / len(test_image_dataset)\n",
        "    \n",
        "  print('Loss : {}  Acc :{}'.format(loss , acc))\n",
        "    \n",
        " "
      ],
      "execution_count": 0,
      "outputs": []
    },
    {
      "metadata": {
        "colab_type": "code",
        "id": "WQijHYWdyn7d",
        "outputId": "d5b4ae17-1ec6-461f-c4f8-6ef8cb8f1c4d",
        "colab": {
          "base_uri": "https://localhost:8080/",
          "height": 35
        }
      },
      "cell_type": "code",
      "source": [
        "#VGG16 Test accuracy\n",
        "eval_model(model_ft , criterion)"
      ],
      "execution_count": 37,
      "outputs": [
        {
          "output_type": "stream",
          "text": [
            "Loss : 1.616552369935172  Acc :0.5357142857142857\n"
          ],
          "name": "stdout"
        }
      ]
    },
    {
      "metadata": {
        "id": "iV8MUoLzZxRD",
        "colab_type": "code",
        "outputId": "9253c48a-d205-4106-d015-ec2fe573680e",
        "colab": {
          "base_uri": "https://localhost:8080/",
          "height": 35
        }
      },
      "cell_type": "code",
      "source": [
        "#DENSENET Test accuracy\n",
        "eval_model(model_dn , criterion)"
      ],
      "execution_count": 35,
      "outputs": [
        {
          "output_type": "stream",
          "text": [
            "Loss : 1.2122576492173331  Acc :0.42857142857142855\n"
          ],
          "name": "stdout"
        }
      ]
    },
    {
      "metadata": {
        "id": "t0Zfcj38Y1LC",
        "colab_type": "code",
        "outputId": "70e1887d-39a5-4111-b896-dbaa8b2b4da1",
        "colab": {
          "base_uri": "https://localhost:8080/",
          "height": 35
        }
      },
      "cell_type": "code",
      "source": [
        "#RESNET 50\n",
        "eval_model(model_res , criterion)\n"
      ],
      "execution_count": 34,
      "outputs": [
        {
          "output_type": "stream",
          "text": [
            "Loss : 1.1128622463771276  Acc :0.5714285714285714\n"
          ],
          "name": "stdout"
        }
      ]
    },
    {
      "metadata": {
        "id": "sQQN9rxgqib1",
        "colab_type": "code",
        "colab": {}
      },
      "cell_type": "code",
      "source": [
        "torch.save(model_res, 'model_resnet.h5')"
      ],
      "execution_count": 0,
      "outputs": []
    },
    {
      "metadata": {
        "id": "L9Se63b9fyL4",
        "colab_type": "code",
        "colab": {}
      },
      "cell_type": "code",
      "source": [
        "torch.save(model_ft, 'model_vggnet.h5')"
      ],
      "execution_count": 0,
      "outputs": []
    },
    {
      "metadata": {
        "id": "--oyM_68f7cS",
        "colab_type": "code",
        "colab": {}
      },
      "cell_type": "code",
      "source": [
        "torch.save(model_dn,'model_densenet.h5')"
      ],
      "execution_count": 0,
      "outputs": []
    },
    {
      "metadata": {
        "id": "u7Od2g0M8zh0",
        "colab_type": "code",
        "colab": {}
      },
      "cell_type": "code",
      "source": [
        "\n",
        "model = torch.load('model_resnet.h5')"
      ],
      "execution_count": 0,
      "outputs": []
    },
    {
      "metadata": {
        "id": "F-V5jyWzFKGS",
        "colab_type": "code",
        "outputId": "a4046c32-5c99-45a5-972d-f00274b99bc3",
        "colab": {
          "base_uri": "https://localhost:8080/",
          "height": 35
        }
      },
      "cell_type": "code",
      "source": [
        "\n",
        "criterion = nn.CrossEntropyLoss()\n",
        "eval_model(model , criterion)"
      ],
      "execution_count": 42,
      "outputs": [
        {
          "output_type": "stream",
          "text": [
            "Loss : 1.231881822858538  Acc :0.5357142857142857\n"
          ],
          "name": "stdout"
        }
      ]
    },
    {
      "metadata": {
        "id": "N2Pn-Sz9CFW8",
        "colab_type": "code",
        "outputId": "dc819ba8-e1a1-44b3-fc23-d42faa26ab86",
        "colab": {
          "base_uri": "https://localhost:8080/",
          "height": 210
        }
      },
      "cell_type": "code",
      "source": [
        "# Get a batch of training data\n",
        "inputs, classes = next(iter(test_dataloader))\n",
        "out = torchvision.utils.make_grid(inputs)\n",
        "l = [class_names[x] for x in classes]\n",
        "print(\"Actual labels are:\" , l) #actual\n",
        "\n",
        "inputs = inputs.to(device)\n",
        "classes = classes.to(device)\n",
        "outputs = model(inputs)\n",
        "_, preds = torch.max(outputs,1)\n",
        "p = [class_names[x] for x in preds]\n",
        "\n",
        "print(\"Predictions are:\", p) #prediction\n",
        "loss = criterion(outputs , classes)\n",
        "imshow(out, title=l)"
      ],
      "execution_count": 43,
      "outputs": [
        {
          "output_type": "stream",
          "text": [
            "Actual labels are: ['normal', 'normal', 'cardiomegaly', 'normal']\n",
            "Predictions are: ['normal', 'normal', 'cardiomegaly', 'normal']\n"
          ],
          "name": "stdout"
        },
        {
          "output_type": "display_data",
          "data": {
            "image/png": "[encoded data removed]",
            "text/plain": [
              "<Figure size 576x396 with 1 Axes>"
            ]
          },
          "metadata": {
            "tags": []
          }
        }
      ]
    },
    {
      "metadata": {
        "id": "cqTM29vURD4B",
        "colab_type": "code",
        "colab": {
          "base_uri": "https://localhost:8080/",
          "height": 35
        },
        "outputId": "5657a1a9-3ff0-4a1c-c2ba-d418c0fcac84"
      },
      "cell_type": "code",
      "source": [
        "from PIL import Image\n",
        "from torch.autograd import Variable\n",
        "\n",
        "def predict_image(image):\n",
        "    image_tensor = test_datatrannsform(image).float()\n",
        "    image_tensor = Variable(image_tensor,requires_grad=True)\n",
        "    image_tensor = image_tensor.unsqueeze(0)\n",
        "    \n",
        "    return image_tensor.cuda()\n",
        "  \n",
        "\n",
        "im = Image.open('/content/gdrive/My Drive/NIH/test/opacity/7.png')  #imagepath\n",
        "to_pil = transforms.ToPILImage()\n",
        "trans1 = transforms.ToTensor()\n",
        "\n",
        "im1 = to_pil(trans1(im))\n",
        "\n",
        "\n",
        "ans = predict_image(im1)\n",
        "\n",
        "outp = model(ans)\n",
        "\n",
        "_, preds = torch.max(outp,1)\n",
        "p = [class_names[x] for x in preds]\n",
        "\n",
        "print(\"Predicted label for given image is:\", p) #prediction\n",
        "\n",
        "\n",
        "\n",
        "\n"
      ],
      "execution_count": 113,
      "outputs": [
        {
          "output_type": "stream",
          "text": [
            "Predicted label for given image is: ['cardiomegaly']\n"
          ],
          "name": "stdout"
        }
      ]
    }
  ]
}