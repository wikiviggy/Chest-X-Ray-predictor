{
  "nbformat": 4,
  "nbformat_minor": 0,
  "metadata": {
    "colab": {
      "name": " chest_XRAY.ipynb",
      "version": "0.3.2",
      "provenance": [],
      "include_colab_link": true
    },
    "kernelspec": {
      "display_name": "Python 3",
      "language": "python",
      "name": "python3"
    },
    "accelerator": "GPU"
  },
  "cells": [
    {
      "cell_type": "markdown",
      "metadata": {
        "id": "view-in-github",
        "colab_type": "text"
      },
      "source": [
        "<a href=\"https://colab.research.google.com/github/wikiviggy/Chest-X-Ray-predictor/blob/master/chest_XRAY.ipynb\" target=\"_parent\"><img src=\"https://colab.research.google.com/assets/colab-badge.svg\" alt=\"Open In Colab\"/></a>"
      ]
    },
    {
      "metadata": {
        "colab_type": "code",
        "id": "OYL8Z8Og_yOQ",
        "outputId": "a11bf141-90dc-48b6-dcb1-970dbb84509a",
        "colab": {
          "base_uri": "https://localhost:8080/",
          "height": 121
        }
      },
      "cell_type": "code",
      "source": [
        "! git clone https://github.com/wikiviggy/Visiondataset.git"
      ],
      "execution_count": 1,
      "outputs": [
        {
          "output_type": "stream",
          "text": [
            "Cloning into 'Visiondataset'...\n",
            "remote: Enumerating objects: 368, done.\u001b[K\n",
            "remote: Counting objects: 100% (368/368), done.\u001b[K\n",
            "remote: Compressing objects: 100% (368/368), done.\u001b[K\n",
            "remote: Total 368 (delta 0), reused 368 (delta 0), pack-reused 0\u001b[K\n",
            "Receiving objects: 100% (368/368), 61.87 MiB | 27.33 MiB/s, done.\n"
          ],
          "name": "stdout"
        }
      ]
    },
    {
      "metadata": {
        "colab_type": "code",
        "id": "X1U7z39p_9k1",
        "outputId": "eeb68056-6554-4ca9-ed59-60cadf0ec42d",
        "colab": {
          "base_uri": "https://localhost:8080/",
          "height": 89
        }
      },
      "cell_type": "code",
      "source": [
        "# http://pytorch.org/\n",
        "from os.path import exists\n",
        "from wheel.pep425tags import get_abbr_impl, get_impl_ver, get_abi_tag\n",
        "platform = '{}{}-{}'.format(get_abbr_impl(), get_impl_ver(), get_abi_tag())\n",
        "cuda_output = !ldconfig -p|grep cudart.so|sed -e 's/.*\\.\\([0-9]*\\)\\.\\([0-9]*\\)$/cu\\1\\2/'\n",
        "accelerator = cuda_output[0] if exists('/dev/nvidia0') else 'cpu'\n",
        "\n",
        "!pip install -q http://download.pytorch.org/whl/{accelerator}/torch-0.4.1-{platform}-linux_x86_64.whl torchvision\n",
        "import torch"
      ],
      "execution_count": 2,
      "outputs": [
        {
          "output_type": "stream",
          "text": [
            "\u001b[31m  HTTP error 403 while getting http://download.pytorch.org/whl/cu100/torch-0.4.1-cp36-cp36m-linux_x86_64.whl\u001b[0m\n",
            "\u001b[31m  Could not install requirement torch==0.4.1 from http://download.pytorch.org/whl/cu100/torch-0.4.1-cp36-cp36m-linux_x86_64.whl because of error 403 Client Error: Forbidden for url: http://download.pytorch.org/whl/cu100/torch-0.4.1-cp36-cp36m-linux_x86_64.whl\u001b[0m\n",
            "\u001b[31mCould not install requirement torch==0.4.1 from http://download.pytorch.org/whl/cu100/torch-0.4.1-cp36-cp36m-linux_x86_64.whl because of HTTP error 403 Client Error: Forbidden for url: http://download.pytorch.org/whl/cu100/torch-0.4.1-cp36-cp36m-linux_x86_64.whl for URL http://download.pytorch.org/whl/cu100/torch-0.4.1-cp36-cp36m-linux_x86_64.whl\u001b[0m\n"
          ],
          "name": "stdout"
        }
      ]
    },
    {
      "metadata": {
        "colab_type": "code",
        "id": "_GMRseDHAC-0",
        "colab": {}
      },
      "cell_type": "code",
      "source": [
        "import torchvision \n",
        "import torch.nn as nn\n",
        "import torch.optim as optim \n",
        "from torchvision import datasets , models , transforms \n",
        "from torch.optim import lr_scheduler \n",
        "import numpy as np \n",
        "import matplotlib.pyplot as plt \n",
        "import time \n",
        "import os \n",
        "import copy \n"
      ],
      "execution_count": 0,
      "outputs": []
    },
    {
      "metadata": {
        "colab_type": "code",
        "id": "9bf1fLoaAIsf",
        "colab": {}
      },
      "cell_type": "code",
      "source": [
        "# As VGG16 requires the data in certain form so ,we are transforming the data as per required(normalization)\n",
        "train_datatransform = transforms.Compose([transforms.RandomResizedCrop(224),\n",
        "                                         transforms.RandomHorizontalFlip(),\n",
        "                                         transforms.ToTensor(),\n",
        "                                         transforms.Normalize([0.485 , 0.456 ,0.406] ,[0.229 , 0.224 , 0.225])])\n",
        "test_datatrannsform = transforms.Compose([transforms.RandomResizedCrop(224), \n",
        "                                         transforms.RandomHorizontalFlip(),\n",
        "                                         transforms.ToTensor(), \n",
        "                                         transforms.Normalize([0.485 ,0.456 ,0.406] ,[0.229 , 0.224 ,0.225])])"
      ],
      "execution_count": 0,
      "outputs": []
    },
    {
      "metadata": {
        "colab_type": "code",
        "id": "KHI1M4G6ANEQ",
        "colab": {}
      },
      "cell_type": "code",
      "source": [
        "#Yeah , we need to export the data that we have created \n",
        "train_image_dataset = datasets.ImageFolder(root='./Visiondataset/train',transform=train_datatransform )\n",
        "test_image_dataset = datasets.ImageFolder(root ='./Visiondataset/test', transform=test_datatrannsform)"
      ],
      "execution_count": 0,
      "outputs": []
    },
    {
      "metadata": {
        "colab_type": "code",
        "id": "xTOs6REJAQFG",
        "colab": {}
      },
      "cell_type": "code",
      "source": [
        "#DataLoader - Load the train and test data in the form of batches\n",
        "\n",
        "train_dataloader = torch.utils.data.DataLoader(train_image_dataset , batch_size =4 ,shuffle=True , num_workers=4 )\n",
        "test_dataloader = torch.utils.data.DataLoader(test_image_dataset , batch_size = 4 , shuffle= True , num_workers=4)"
      ],
      "execution_count": 0,
      "outputs": []
    },
    {
      "metadata": {
        "colab_type": "code",
        "id": "4Ha8vQQdAXrE",
        "outputId": "b97a5c0d-1c20-457a-8d67-537041545e99",
        "colab": {
          "base_uri": "https://localhost:8080/",
          "height": 52
        }
      },
      "cell_type": "code",
      "source": [
        "class_names = train_image_dataset.classes\n",
        "print(class_names)\n",
        "device = torch.device(\"cuda:0\" if torch.cuda.is_available() else \"cpu\")\n",
        "print(device)"
      ],
      "execution_count": 7,
      "outputs": [
        {
          "output_type": "stream",
          "text": [
            "['cardiomegaly', 'normal', 'opacity']\n",
            "cuda:0\n"
          ],
          "name": "stdout"
        }
      ]
    },
    {
      "metadata": {
        "colab_type": "code",
        "id": "RpQd86qHAqxU",
        "outputId": "9abac558-1cf0-4cb6-8258-8872ba572aea",
        "colab": {
          "base_uri": "https://localhost:8080/",
          "height": 211
        }
      },
      "cell_type": "code",
      "source": [
        "!pip install Pillow==4.0.0\n",
        "!pip install PIL\n",
        "!pip install image\n",
        "import PIL"
      ],
      "execution_count": 8,
      "outputs": [
        {
          "output_type": "stream",
          "text": [
            "Requirement already satisfied: Pillow==4.0.0 in /usr/local/lib/python3.6/dist-packages (4.0.0)\n",
            "Requirement already satisfied: olefile in /usr/local/lib/python3.6/dist-packages (from Pillow==4.0.0) (0.46)\n",
            "Collecting PIL\n",
            "\u001b[31m  Could not find a version that satisfies the requirement PIL (from versions: )\u001b[0m\n",
            "\u001b[31mNo matching distribution found for PIL\u001b[0m\n",
            "Requirement already satisfied: image in /usr/local/lib/python3.6/dist-packages (1.5.27)\n",
            "Requirement already satisfied: pillow in /usr/local/lib/python3.6/dist-packages (from image) (4.0.0)\n",
            "Requirement already satisfied: django in /usr/local/lib/python3.6/dist-packages (from image) (2.1.7)\n",
            "Requirement already satisfied: olefile in /usr/local/lib/python3.6/dist-packages (from pillow->image) (0.46)\n",
            "Requirement already satisfied: pytz in /usr/local/lib/python3.6/dist-packages (from django->image) (2018.9)\n"
          ],
          "name": "stdout"
        }
      ]
    },
    {
      "metadata": {
        "colab_type": "code",
        "id": "dbwKzgrKBHtM",
        "outputId": "3dd9d2ac-cd93-4667-e885-a311fc6199d1",
        "colab": {
          "base_uri": "https://localhost:8080/",
          "height": 175
        }
      },
      "cell_type": "code",
      "source": [
        "def imshow(inp, title=None):\n",
        "    \"\"\"Imshow for Tensor.\"\"\"\n",
        "    inp = inp.numpy().transpose((1, 2, 0))\n",
        "    mean = np.array([0.485, 0.456, 0.406])\n",
        "    std = np.array([0.229, 0.224, 0.225])\n",
        "    inp = std * inp + mean\n",
        "    inp = np.clip(inp, 0, 1)\n",
        "    plt.imshow(inp)\n",
        "    if title is not None:\n",
        "        plt.title(title)\n",
        "    plt.pause(0.001)  # pause a bit so that plots are updated\n",
        "\n",
        "\n",
        "# Get a batch of training data\n",
        "inputs, classes = next(iter(train_dataloader))\n",
        "\n",
        "# Make a grid from batch\n",
        "out = torchvision.utils.make_grid(inputs)\n",
        "\n",
        "imshow(out, title=[class_names[x] for x in classes])\n"
      ],
      "execution_count": 9,
      "outputs": [
        {
          "output_type": "display_data",
          "data": {
            "image/png": "[encoded data removed]",
            "text/plain": [
              "<Figure size 576x396 with 1 Axes>"
            ]
          },
          "metadata": {
            "tags": []
          }
        }
      ]
    },
    {
      "metadata": {
        "colab_type": "code",
        "id": "5--HwZ-5Bh9V",
        "colab": {}
      },
      "cell_type": "code",
      "source": [
        "def train_model(model , criterion , optimizer , scheduler ,num_epochs):\n",
        "  since =time.time()\n",
        "  best_acc =0.0\n",
        "  best_model_wts = copy.deepcopy(model.state_dict())\n",
        "  \n",
        "  for epoch in range(num_epochs):\n",
        "    print('Epoch {}/{}'.format(epoch , num_epochs -1))\n",
        "    print('-'*10)\n",
        "    \n",
        "    scheduler.step()\n",
        "    model.train()\n",
        "    \n",
        "    running_loss = 0.0 \n",
        "    running_corrects = 0\n",
        "    \n",
        "    for inputs , labels in train_dataloader:\n",
        "      inputs = inputs.to(device)\n",
        "      labels = labels.to(device)\n",
        "      \n",
        "      optimizer.zero_grad()\n",
        "      \n",
        "      outputs = model(inputs)\n",
        "      _, preds = torch.max(outputs , 1)\n",
        "      loss = criterion(outputs , labels)\n",
        "      \n",
        "      loss.backward()\n",
        "      optimizer.step()\n",
        "      \n",
        "      running_loss += loss.item() *inputs.size(0)\n",
        "      running_corrects += torch.sum(preds == labels.data)\n",
        "      \n",
        "    epoch_loss = running_loss / len(train_image_dataset)\n",
        "    epoch_acc = running_corrects.double() / len(train_image_dataset)\n",
        "    \n",
        "    print('Loss : {}  Acc :{}'.format(epoch_loss , epoch_acc))\n",
        "    \n",
        "    if epoch_acc > best_acc:\n",
        "      best_acc =epoch_acc \n",
        "      best_model_wts = copy.deepcopy(model.state_dict())\n",
        "    \n",
        "  time_elapsed = time.time() - since\n",
        "  print('Training complete in {:.0f}m {:.0f}s'.format(\n",
        "        time_elapsed // 60, time_elapsed % 60))\n",
        "    \n",
        "    \n",
        "    \n",
        "  model.load_state_dict(best_model_wts)\n",
        "  return model\n",
        "  "
      ],
      "execution_count": 0,
      "outputs": []
    },
    {
      "metadata": {
        "colab_type": "code",
        "id": "o7opN-l2EgUW",
        "colab": {}
      },
      "cell_type": "code",
      "source": [
        "def set_require_grad(model , feature_extract):\n",
        "  if feature_extract:\n",
        "    for param in model.parameters():\n",
        "      param.require_grad=False"
      ],
      "execution_count": 0,
      "outputs": []
    },
    {
      "metadata": {
        "colab_type": "code",
        "id": "lOFjZqpJE35V",
        "outputId": "989b9e10-3525-4c0e-a80e-cdda96df933c",
        "colab": {
          "base_uri": "https://localhost:8080/",
          "height": 72
        }
      },
      "cell_type": "code",
      "source": [
        "#VGG16\n",
        "model_ft = models.vgg16_bn(pretrained =True)\n",
        "set_require_grad(model_ft,False)\n",
        "num_features = model_ft.classifier[6].in_features\n",
        "features = list(model_ft.classifier.children())[:-1] # Remove last layer\n",
        "features.extend([nn.Linear(num_features, len(class_names))]) # Add our layer with 4 outputs\n",
        "model_ft.classifier = nn.Sequential(*features)\n",
        "\n",
        "model_ft = model_ft.to(device)\n",
        "\n",
        "criterion = nn.CrossEntropyLoss()\n",
        "\n",
        "optimizer_ft = optim.SGD(model_ft.parameters() , lr = 0.0015 , momentum =0.9)\n",
        "\n",
        "exp_lr_scheduler = lr_scheduler.StepLR(optimizer_ft,step_size =7 ,gamma=0.1)\n"
      ],
      "execution_count": 12,
      "outputs": [
        {
          "output_type": "stream",
          "text": [
            "Downloading: \"https://download.pytorch.org/models/vgg16_bn-6c64b313.pth\" to /root/.torch/models/vgg16_bn-6c64b313.pth\n",
            "553507836it [00:08, 66849338.61it/s]\n"
          ],
          "name": "stderr"
        }
      ]
    },
    {
      "metadata": {
        "id": "JX8Aqf5nWscp",
        "colab_type": "code",
        "outputId": "74c49e43-5352-4b50-d9fd-6089b79c7069",
        "colab": {
          "base_uri": "https://localhost:8080/",
          "height": 72
        }
      },
      "cell_type": "code",
      "source": [
        "#DENSENET 121\n",
        "model_dn  = models.densenet121(pretrained=True)\n",
        "set_require_grad(model_dn,False)\n",
        "features = list(model_dn.classifier.children())[:-1] # Remove last layer\n",
        "features.extend([nn.Linear(1024, len(class_names))]) # Add our layer with 4 outputs\n",
        "model_dn.classifier = nn.Sequential(*features)\n",
        "\n",
        "model_dn = model_dn.to(device)\n",
        "\n",
        "criterion = nn.CrossEntropyLoss()\n",
        "\n",
        "optimizer_dn = optim.SGD(model_dn.parameters() , lr = 0.0015 , momentum =0.9)\n",
        "\n",
        "exp_lr_scheduler = lr_scheduler.StepLR(optimizer_dn,step_size = 7 ,gamma=0.1)"
      ],
      "execution_count": 15,
      "outputs": [
        {
          "output_type": "stream",
          "text": [
            "/usr/local/lib/python3.6/dist-packages/torchvision/models/densenet.py:212: UserWarning: nn.init.kaiming_normal is now deprecated in favor of nn.init.kaiming_normal_.\n",
            "  nn.init.kaiming_normal(m.weight.data)\n"
          ],
          "name": "stderr"
        }
      ]
    },
    {
      "metadata": {
        "id": "CsiGzCwmXP1L",
        "colab_type": "code",
        "colab": {}
      },
      "cell_type": "code",
      "source": [
        "#RESNET 50\n",
        "model_res = models.resnet50(pretrained=True)\n",
        "set_require_grad(model_res,False)\n",
        "features = list(model_res.children())[:-1] # Remove last layer\n",
        "features.extend([nn.Linear(2048, len(class_names))]) # Add our layer with 4 outputs\n",
        "model_res.classifier = nn.Sequential(*features)\n",
        "\n",
        "model_res = model_res.to(device)\n",
        "\n",
        "criterion = nn.CrossEntropyLoss()\n",
        "\n",
        "optimizer_res = optim.SGD(model_res.parameters() , lr = 0.0015 , momentum =0.9)\n",
        "\n",
        "exp_lr_scheduler = lr_scheduler.StepLR(optimizer_dn,step_size = 7 ,gamma=0.1)"
      ],
      "execution_count": 0,
      "outputs": []
    },
    {
      "metadata": {
        "colab_type": "code",
        "id": "awGTIhmuGPYE",
        "outputId": "8ed5688c-e6a1-4be6-9d2a-7edf77c0e7f2",
        "colab": {
          "base_uri": "https://localhost:8080/",
          "height": 2635
        }
      },
      "cell_type": "code",
      "source": [
        "#VGG16\n",
        "model_ft = train_model(model_ft , criterion , optimizer_ft , exp_lr_scheduler , num_epochs = 50)"
      ],
      "execution_count": 17,
      "outputs": [
        {
          "output_type": "stream",
          "text": [
            "Epoch 0/49\n",
            "----------\n",
            "Loss : 0.7677625783954758  Acc :0.7530120481927711\n",
            "Epoch 1/49\n",
            "----------\n",
            "Loss : 0.661977696311043  Acc :0.7771084337349398\n",
            "Epoch 2/49\n",
            "----------\n",
            "Loss : 0.7034516776182566  Acc :0.786144578313253\n",
            "Epoch 3/49\n",
            "----------\n",
            "Loss : 0.6852549939270479  Acc :0.7801204819277109\n",
            "Epoch 4/49\n",
            "----------\n",
            "Loss : 0.5988108131540827  Acc :0.7771084337349398\n",
            "Epoch 5/49\n",
            "----------\n",
            "Loss : 0.6390468151454466  Acc :0.7801204819277109\n",
            "Epoch 6/49\n",
            "----------\n",
            "Loss : 0.6067994513425482  Acc :0.7891566265060241\n",
            "Epoch 7/49\n",
            "----------\n",
            "Loss : 0.6065683797540435  Acc :0.7801204819277109\n",
            "Epoch 8/49\n",
            "----------\n",
            "Loss : 0.5728806086692465  Acc :0.783132530120482\n",
            "Epoch 9/49\n",
            "----------\n",
            "Loss : 0.5195744253066649  Acc :0.8072289156626506\n",
            "Epoch 10/49\n",
            "----------\n",
            "Loss : 0.6030507701707174  Acc :0.7801204819277109\n",
            "Epoch 11/49\n",
            "----------\n",
            "Loss : 0.5874178524476936  Acc :0.7951807228915663\n",
            "Epoch 12/49\n",
            "----------\n",
            "Loss : 0.5706368767353426  Acc :0.8072289156626506\n",
            "Epoch 13/49\n",
            "----------\n",
            "Loss : 0.5553003219236811  Acc :0.7921686746987953\n",
            "Epoch 14/49\n",
            "----------\n",
            "Loss : 0.5112203971808216  Acc :0.8102409638554218\n",
            "Epoch 15/49\n",
            "----------\n",
            "Loss : 0.5261123929038105  Acc :0.819277108433735\n",
            "Epoch 16/49\n",
            "----------\n",
            "Loss : 0.4902980113963047  Acc :0.8132530120481928\n",
            "Epoch 17/49\n",
            "----------\n",
            "Loss : 0.5139704623136175  Acc :0.8132530120481928\n",
            "Epoch 18/49\n",
            "----------\n",
            "Loss : 0.4484162831521896  Acc :0.8313253012048193\n",
            "Epoch 19/49\n",
            "----------\n",
            "Loss : 0.4692965187581189  Acc :0.8373493975903615\n",
            "Epoch 20/49\n",
            "----------\n",
            "Loss : 0.531175116099507  Acc :0.7801204819277109\n",
            "Epoch 21/49\n",
            "----------\n",
            "Loss : 0.45658511515841427  Acc :0.8102409638554218\n",
            "Epoch 22/49\n",
            "----------\n",
            "Loss : 0.4217746168015951  Acc :0.8373493975903615\n",
            "Epoch 23/49\n",
            "----------\n",
            "Loss : 0.43506441938589857  Acc :0.8343373493975904\n",
            "Epoch 24/49\n",
            "----------\n",
            "Loss : 0.43671283341315853  Acc :0.8373493975903615\n",
            "Epoch 25/49\n",
            "----------\n",
            "Loss : 0.3721012877053525  Acc :0.8524096385542169\n",
            "Epoch 26/49\n",
            "----------\n",
            "Loss : 0.4109331293996558  Acc :0.8433734939759037\n",
            "Epoch 27/49\n",
            "----------\n",
            "Loss : 0.3987274117857577  Acc :0.8373493975903615\n",
            "Epoch 28/49\n",
            "----------\n",
            "Loss : 0.352678975067943  Acc :0.8734939759036146\n",
            "Epoch 29/49\n",
            "----------\n",
            "Loss : 0.4241758789642748  Acc :0.8463855421686748\n",
            "Epoch 30/49\n",
            "----------\n",
            "Loss : 0.33289080229868373  Acc :0.8795180722891567\n",
            "Epoch 31/49\n",
            "----------\n",
            "Loss : 0.4034738459859986  Acc :0.8524096385542169\n",
            "Epoch 32/49\n",
            "----------\n",
            "Loss : 0.4037181521395603  Acc :0.8524096385542169\n",
            "Epoch 33/49\n",
            "----------\n",
            "Loss : 0.3753893827817526  Acc :0.858433734939759\n",
            "Epoch 34/49\n",
            "----------\n",
            "Loss : 0.36187027933367766  Acc :0.858433734939759\n",
            "Epoch 35/49\n",
            "----------\n",
            "Loss : 0.30334304865584316  Acc :0.8945783132530121\n",
            "Epoch 36/49\n",
            "----------\n",
            "Loss : 0.34387267731040355  Acc :0.8614457831325302\n",
            "Epoch 37/49\n",
            "----------\n",
            "Loss : 0.3947233850338373  Acc :0.8524096385542169\n",
            "Epoch 38/49\n",
            "----------\n",
            "Loss : 0.31576792087899636  Acc :0.8734939759036146\n",
            "Epoch 39/49\n",
            "----------\n",
            "Loss : 0.27056296169757843  Acc :0.8945783132530121\n",
            "Epoch 40/49\n",
            "----------\n",
            "Loss : 0.26356722037476227  Acc :0.9126506024096386\n",
            "Epoch 41/49\n",
            "----------\n",
            "Loss : 0.36092398091253025  Acc :0.8765060240963856\n",
            "Epoch 42/49\n",
            "----------\n",
            "Loss : 0.280692994594574  Acc :0.8855421686746988\n",
            "Epoch 43/49\n",
            "----------\n",
            "Loss : 0.4247203745755805  Acc :0.8493975903614458\n",
            "Epoch 44/49\n",
            "----------\n",
            "Loss : 0.3418283789272768  Acc :0.8734939759036146\n",
            "Epoch 45/49\n",
            "----------\n",
            "Loss : 0.23882130739918675  Acc :0.9096385542168676\n",
            "Epoch 46/49\n",
            "----------\n",
            "Loss : 0.22301820584808488  Acc :0.9216867469879518\n",
            "Epoch 47/49\n",
            "----------\n",
            "Loss : 0.25392605795199613  Acc :0.9156626506024097\n",
            "Epoch 48/49\n",
            "----------\n",
            "Loss : 0.29741136155214654  Acc :0.9006024096385543\n",
            "Epoch 49/49\n",
            "----------\n",
            "Loss : 0.29952729322824134  Acc :0.8975903614457832\n",
            "Training complete in 24m 20s\n"
          ],
          "name": "stdout"
        }
      ]
    },
    {
      "metadata": {
        "id": "tHpHMMrcZWV5",
        "colab_type": "code",
        "outputId": "6626e5b9-66bf-4a29-9982-aec2ea97b4a0",
        "colab": {
          "base_uri": "https://localhost:8080/",
          "height": 2635
        }
      },
      "cell_type": "code",
      "source": [
        "#DENSENET\n",
        "model_dn = train_model(model_dn , criterion , optimizer_dn , exp_lr_scheduler , num_epochs = 50)"
      ],
      "execution_count": 18,
      "outputs": [
        {
          "output_type": "stream",
          "text": [
            "Epoch 0/49\n",
            "----------\n",
            "Loss : 1.1074289916509605  Acc :0.36445783132530124\n",
            "Epoch 1/49\n",
            "----------\n",
            "Loss : 1.0989767585892276  Acc :0.36445783132530124\n",
            "Epoch 2/49\n",
            "----------\n",
            "Loss : 1.1075376746166183  Acc :0.3253012048192771\n",
            "Epoch 3/49\n",
            "----------\n",
            "Loss : 1.11337784902159  Acc :0.3072289156626506\n",
            "Epoch 4/49\n",
            "----------\n",
            "Loss : 1.1039372237331897  Acc :0.32228915662650603\n",
            "Epoch 5/49\n",
            "----------\n",
            "Loss : 1.1095541816159904  Acc :0.3253012048192771\n",
            "Epoch 6/49\n",
            "----------\n",
            "Loss : 1.0970016423478184  Acc :0.3433734939759036\n",
            "Epoch 7/49\n",
            "----------\n",
            "Loss : 1.1022528639758926  Acc :0.355421686746988\n",
            "Epoch 8/49\n",
            "----------\n",
            "Loss : 1.097628027559763  Acc :0.3674698795180723\n",
            "Epoch 9/49\n",
            "----------\n",
            "Loss : 1.110422610518444  Acc :0.34638554216867473\n",
            "Epoch 10/49\n",
            "----------\n",
            "Loss : 1.105439454676157  Acc :0.35843373493975905\n",
            "Epoch 11/49\n",
            "----------\n",
            "Loss : 1.1011419439890298  Acc :0.32228915662650603\n",
            "Epoch 12/49\n",
            "----------\n",
            "Loss : 1.1007052401462234  Acc :0.355421686746988\n",
            "Epoch 13/49\n",
            "----------\n",
            "Loss : 1.0929430866815957  Acc :0.3283132530120482\n",
            "Epoch 14/49\n",
            "----------\n",
            "Loss : 1.0968935970800469  Acc :0.34638554216867473\n",
            "Epoch 15/49\n",
            "----------\n",
            "Loss : 1.1053039295127594  Acc :0.3283132530120482\n",
            "Epoch 16/49\n",
            "----------\n",
            "Loss : 1.0963706704507392  Acc :0.3253012048192771\n",
            "Epoch 17/49\n",
            "----------\n",
            "Loss : 1.10844515676958  Acc :0.34638554216867473\n",
            "Epoch 18/49\n",
            "----------\n",
            "Loss : 1.0897169048527637  Acc :0.3795180722891566\n",
            "Epoch 19/49\n",
            "----------\n",
            "Loss : 1.092014250266983  Acc :0.3704819277108434\n",
            "Epoch 20/49\n",
            "----------\n",
            "Loss : 1.0961589719875748  Acc :0.3433734939759036\n",
            "Epoch 21/49\n",
            "----------\n",
            "Loss : 1.1021450808249325  Acc :0.35843373493975905\n",
            "Epoch 22/49\n",
            "----------\n",
            "Loss : 1.095370946160282  Acc :0.355421686746988\n",
            "Epoch 23/49\n",
            "----------\n",
            "Loss : 1.093150688223092  Acc :0.3614457831325301\n",
            "Epoch 24/49\n",
            "----------\n",
            "Loss : 1.1046133414808526  Acc :0.3373493975903615\n",
            "Epoch 25/49\n",
            "----------\n",
            "Loss : 1.1010994695755372  Acc :0.3614457831325301\n",
            "Epoch 26/49\n",
            "----------\n",
            "Loss : 1.0945321199405624  Acc :0.3734939759036145\n",
            "Epoch 27/49\n",
            "----------\n",
            "Loss : 1.0927025086908455  Acc :0.35843373493975905\n",
            "Epoch 28/49\n",
            "----------\n",
            "Loss : 1.0962904131556133  Acc :0.3795180722891566\n",
            "Epoch 29/49\n",
            "----------\n",
            "Loss : 1.096358425645943  Acc :0.3704819277108434\n",
            "Epoch 30/49\n",
            "----------\n",
            "Loss : 1.091670736490962  Acc :0.35240963855421686\n",
            "Epoch 31/49\n",
            "----------\n",
            "Loss : 1.0993718626987503  Acc :0.3795180722891566\n",
            "Epoch 32/49\n",
            "----------\n",
            "Loss : 1.1007539845374694  Acc :0.3704819277108434\n",
            "Epoch 33/49\n",
            "----------\n",
            "Loss : 1.0928509558539792  Acc :0.35240963855421686\n",
            "Epoch 34/49\n",
            "----------\n",
            "Loss : 1.0988609094217598  Acc :0.37650602409638556\n",
            "Epoch 35/49\n",
            "----------\n",
            "Loss : 1.099041168948254  Acc :0.3313253012048193\n",
            "Epoch 36/49\n",
            "----------\n",
            "Loss : 1.1029310729130204  Acc :0.35240963855421686\n",
            "Epoch 37/49\n",
            "----------\n",
            "Loss : 1.0967298494764122  Acc :0.36445783132530124\n",
            "Epoch 38/49\n",
            "----------\n",
            "Loss : 1.0943541519613151  Acc :0.3795180722891566\n",
            "Epoch 39/49\n",
            "----------\n",
            "Loss : 1.098719152341406  Acc :0.3704819277108434\n",
            "Epoch 40/49\n",
            "----------\n",
            "Loss : 1.0976567067295673  Acc :0.3734939759036145\n",
            "Epoch 41/49\n",
            "----------\n",
            "Loss : 1.0966283068599472  Acc :0.3674698795180723\n",
            "Epoch 42/49\n",
            "----------\n",
            "Loss : 1.0974869735269661  Acc :0.34638554216867473\n",
            "Epoch 43/49\n",
            "----------\n",
            "Loss : 1.096446362604578  Acc :0.36445783132530124\n",
            "Epoch 44/49\n",
            "----------\n",
            "Loss : 1.1179351914359863  Acc :0.31626506024096385\n",
            "Epoch 45/49\n",
            "----------\n",
            "Loss : 1.10598052840635  Acc :0.3253012048192771\n",
            "Epoch 46/49\n",
            "----------\n",
            "Loss : 1.1025870183864273  Acc :0.355421686746988\n",
            "Epoch 47/49\n",
            "----------\n",
            "Loss : 1.0971627572932876  Acc :0.3704819277108434\n",
            "Epoch 48/49\n",
            "----------\n",
            "Loss : 1.1003422586314648  Acc :0.355421686746988\n",
            "Epoch 49/49\n",
            "----------\n",
            "Loss : 1.1104667983859418  Acc :0.3283132530120482\n",
            "Training complete in 10m 55s\n"
          ],
          "name": "stdout"
        }
      ]
    },
    {
      "metadata": {
        "id": "HRftFbpaYrjj",
        "colab_type": "code",
        "outputId": "571a90ce-aab6-4662-827c-9fdf33d81cbc",
        "colab": {
          "base_uri": "https://localhost:8080/",
          "height": 2635
        }
      },
      "cell_type": "code",
      "source": [
        "#RESNET 50\n",
        "model_res = train_model(model_res , criterion , optimizer_res , exp_lr_scheduler , num_epochs = 50)"
      ],
      "execution_count": 19,
      "outputs": [
        {
          "output_type": "stream",
          "text": [
            "Epoch 0/49\n",
            "----------\n",
            "Loss : 1.8167127758623607  Acc :0.677710843373494\n",
            "Epoch 1/49\n",
            "----------\n",
            "Loss : 0.8517242928585375  Acc :0.7289156626506025\n",
            "Epoch 2/49\n",
            "----------\n",
            "Loss : 0.7967705554272755  Acc :0.7620481927710844\n",
            "Epoch 3/49\n",
            "----------\n",
            "Loss : 0.7504941124513925  Acc :0.7620481927710844\n",
            "Epoch 4/49\n",
            "----------\n",
            "Loss : 0.7272026323410402  Acc :0.7650602409638555\n",
            "Epoch 5/49\n",
            "----------\n",
            "Loss : 0.693222038717155  Acc :0.746987951807229\n",
            "Epoch 6/49\n",
            "----------\n",
            "Loss : 0.7299095981092338  Acc :0.7771084337349398\n",
            "Epoch 7/49\n",
            "----------\n",
            "Loss : 0.6832663151155035  Acc :0.7530120481927711\n",
            "Epoch 8/49\n",
            "----------\n",
            "Loss : 0.6841379921120333  Acc :0.7650602409638555\n",
            "Epoch 9/49\n",
            "----------\n",
            "Loss : 0.6741124262292701  Acc :0.746987951807229\n",
            "Epoch 10/49\n",
            "----------\n",
            "Loss : 0.663229232811066  Acc :0.7560240963855422\n",
            "Epoch 11/49\n",
            "----------\n",
            "Loss : 0.6442349847540798  Acc :0.7680722891566265\n",
            "Epoch 12/49\n",
            "----------\n",
            "Loss : 0.6518010748438088  Acc :0.7891566265060241\n",
            "Epoch 13/49\n",
            "----------\n",
            "Loss : 0.7102959127311247  Acc :0.7710843373493976\n",
            "Epoch 14/49\n",
            "----------\n",
            "Loss : 0.6945460848061435  Acc :0.7620481927710844\n",
            "Epoch 15/49\n",
            "----------\n",
            "Loss : 0.6339002143905823  Acc :0.7680722891566265\n",
            "Epoch 16/49\n",
            "----------\n",
            "Loss : 0.6641326539487724  Acc :0.7801204819277109\n",
            "Epoch 17/49\n",
            "----------\n",
            "Loss : 0.711094907967441  Acc :0.7740963855421688\n",
            "Epoch 18/49\n",
            "----------\n",
            "Loss : 0.6562480869063412  Acc :0.7680722891566265\n",
            "Epoch 19/49\n",
            "----------\n",
            "Loss : 0.6306675916694733  Acc :0.7710843373493976\n",
            "Epoch 20/49\n",
            "----------\n",
            "Loss : 0.5913598336369158  Acc :0.7771084337349398\n",
            "Epoch 21/49\n",
            "----------\n",
            "Loss : 0.5648269279893622  Acc :0.7921686746987953\n",
            "Epoch 22/49\n",
            "----------\n",
            "Loss : 0.6170766755758997  Acc :0.7740963855421688\n",
            "Epoch 23/49\n",
            "----------\n",
            "Loss : 0.6299890236682203  Acc :0.7530120481927711\n",
            "Epoch 24/49\n",
            "----------\n",
            "Loss : 0.5699641661471632  Acc :0.7981927710843374\n",
            "Epoch 25/49\n",
            "----------\n",
            "Loss : 0.6081712906619152  Acc :0.7921686746987953\n",
            "Epoch 26/49\n",
            "----------\n",
            "Loss : 0.590571455208652  Acc :0.786144578313253\n",
            "Epoch 27/49\n",
            "----------\n",
            "Loss : 0.5669155566089125  Acc :0.783132530120482\n",
            "Epoch 28/49\n",
            "----------\n",
            "Loss : 0.5375380027725036  Acc :0.7981927710843374\n",
            "Epoch 29/49\n",
            "----------\n",
            "Loss : 0.5202136815312397  Acc :0.8042168674698795\n",
            "Epoch 30/49\n",
            "----------\n",
            "Loss : 0.5777298743466297  Acc :0.8072289156626506\n",
            "Epoch 31/49\n",
            "----------\n",
            "Loss : 0.5184791289180158  Acc :0.7951807228915663\n",
            "Epoch 32/49\n",
            "----------\n",
            "Loss : 0.5420723851904812  Acc :0.8042168674698795\n",
            "Epoch 33/49\n",
            "----------\n",
            "Loss : 0.5906333090311073  Acc :0.7891566265060241\n",
            "Epoch 34/49\n",
            "----------\n",
            "Loss : 0.5440129889063088  Acc :0.8012048192771085\n",
            "Epoch 35/49\n",
            "----------\n",
            "Loss : 0.5165241138044611  Acc :0.8102409638554218\n",
            "Epoch 36/49\n",
            "----------\n",
            "Loss : 0.44299012207123173  Acc :0.819277108433735\n",
            "Epoch 37/49\n",
            "----------\n",
            "Loss : 0.49058283380715245  Acc :0.7891566265060241\n",
            "Epoch 38/49\n",
            "----------\n",
            "Loss : 0.538379226822451  Acc :0.8012048192771085\n",
            "Epoch 39/49\n",
            "----------\n",
            "Loss : 0.5326296191617667  Acc :0.786144578313253\n",
            "Epoch 40/49\n",
            "----------\n",
            "Loss : 0.5367442785975445  Acc :0.8072289156626506\n",
            "Epoch 41/49\n",
            "----------\n",
            "Loss : 0.49236346152891597  Acc :0.8162650602409639\n",
            "Epoch 42/49\n",
            "----------\n",
            "Loss : 0.49335242466754226  Acc :0.7981927710843374\n",
            "Epoch 43/49\n",
            "----------\n",
            "Loss : 0.491020725434085  Acc :0.8132530120481928\n",
            "Epoch 44/49\n",
            "----------\n",
            "Loss : 0.4521322882319071  Acc :0.8493975903614458\n",
            "Epoch 45/49\n",
            "----------\n",
            "Loss : 0.47969766553626003  Acc :0.822289156626506\n",
            "Epoch 46/49\n",
            "----------\n",
            "Loss : 0.46148883578288985  Acc :0.8403614457831325\n",
            "Epoch 47/49\n",
            "----------\n",
            "Loss : 0.5195057679371662  Acc :0.8072289156626506\n",
            "Epoch 48/49\n",
            "----------\n",
            "Loss : 0.38733573994004583  Acc :0.8734939759036146\n",
            "Epoch 49/49\n",
            "----------\n",
            "Loss : 0.4844167289963688  Acc :0.819277108433735\n",
            "Training complete in 9m 46s\n"
          ],
          "name": "stdout"
        }
      ]
    },
    {
      "metadata": {
        "colab_type": "code",
        "id": "xLccNGemxQGD",
        "colab": {}
      },
      "cell_type": "code",
      "source": [
        "def eval_model(model , criterion):\n",
        "  \n",
        "  model.eval()\n",
        "  \n",
        "  running_loss = 0.0 \n",
        "  running_corrects = 0\n",
        "  \n",
        "  for inputs , labels in test_dataloader :\n",
        "    inputs = inputs.to(device)\n",
        "    labels = labels.to(device)\n",
        "    \n",
        "    outputs = model(inputs)\n",
        "    _, preds = torch.max(outputs,1)\n",
        "    loss = criterion(outputs , labels)\n",
        "    \n",
        "    running_loss += loss.item() *inputs.size(0)\n",
        "    running_corrects += torch.sum(preds == labels.data)\n",
        "  \n",
        "        \n",
        "  loss = running_loss / len(test_image_dataset)\n",
        "  acc = running_corrects.double() / len(test_image_dataset)\n",
        "    \n",
        "  print('Loss : {}  Acc :{}'.format(loss , acc))\n",
        "    \n",
        " "
      ],
      "execution_count": 0,
      "outputs": []
    },
    {
      "metadata": {
        "colab_type": "code",
        "id": "WQijHYWdyn7d",
        "outputId": "4d810095-815a-4d43-9eac-2abd3f5a9109",
        "colab": {
          "base_uri": "https://localhost:8080/",
          "height": 35
        }
      },
      "cell_type": "code",
      "source": [
        "#VGG16 Test accuracy\n",
        "eval_model(model_ft , criterion)"
      ],
      "execution_count": 67,
      "outputs": [
        {
          "output_type": "stream",
          "text": [
            "Loss : 1.0464238779885429  Acc :0.7142857142857142\n"
          ],
          "name": "stdout"
        }
      ]
    },
    {
      "metadata": {
        "id": "iV8MUoLzZxRD",
        "colab_type": "code",
        "outputId": "dc5f878f-dc88-4373-910b-63c4f8c53d1e",
        "colab": {
          "base_uri": "https://localhost:8080/",
          "height": 35
        }
      },
      "cell_type": "code",
      "source": [
        "#DENSENET Test accuracy\n",
        "eval_model(model_dn , criterion)"
      ],
      "execution_count": 35,
      "outputs": [
        {
          "output_type": "stream",
          "text": [
            "Loss : 1.0147233520235335  Acc :0.6428571428571428\n"
          ],
          "name": "stdout"
        }
      ]
    },
    {
      "metadata": {
        "id": "t0Zfcj38Y1LC",
        "colab_type": "code",
        "outputId": "00fcbdd1-9a89-4296-f19c-b584f55d93b7",
        "colab": {
          "base_uri": "https://localhost:8080/",
          "height": 35
        }
      },
      "cell_type": "code",
      "source": [
        "#RESNET 50\n",
        "eval_model(model_res , criterion)\n"
      ],
      "execution_count": 60,
      "outputs": [
        {
          "output_type": "stream",
          "text": [
            "Loss : 1.6690332208360945  Acc :0.6071428571428571\n"
          ],
          "name": "stdout"
        }
      ]
    },
    {
      "metadata": {
        "id": "IDLTfQcutE_K",
        "colab_type": "code",
        "colab": {
          "base_uri": "https://localhost:8080/",
          "height": 124
        },
        "outputId": "36267210-462d-4597-977d-e8f2dd20f870"
      },
      "cell_type": "code",
      "source": [
        "from google.colab import drive\n",
        "drive.mount('/content/gdrive')"
      ],
      "execution_count": 68,
      "outputs": [
        {
          "output_type": "stream",
          "text": [
            "Go to this URL in a browser: https://accounts.google.com/o/oauth2/auth?client_id=947318989803-6bn6qk8qdgf4n4g3pfee6491hc0brc4i.apps.googleusercontent.com&redirect_uri=urn%3Aietf%3Awg%3Aoauth%3A2.0%3Aoob&scope=email%20https%3A%2F%2Fwww.googleapis.com%2Fauth%2Fdocs.test%20https%3A%2F%2Fwww.googleapis.com%2Fauth%2Fdrive%20https%3A%2F%2Fwww.googleapis.com%2Fauth%2Fdrive.photos.readonly%20https%3A%2F%2Fwww.googleapis.com%2Fauth%2Fpeopleapi.readonly&response_type=code\n",
            "\n",
            "Enter your authorization code:\n",
            "··········\n",
            "Mounted at /content/gdrive\n"
          ],
          "name": "stdout"
        }
      ]
    },
    {
      "metadata": {
        "id": "sQQN9rxgqib1",
        "colab_type": "code",
        "colab": {}
      },
      "cell_type": "code",
      "source": [
        "torch.save(model_res, '/content/gdrive/My Drive/NIH/model_resnet.h5')"
      ],
      "execution_count": 0,
      "outputs": []
    },
    {
      "metadata": {
        "id": "L9Se63b9fyL4",
        "colab_type": "code",
        "colab": {}
      },
      "cell_type": "code",
      "source": [
        "torch.save(model_ft, '/content/gdrive/My Drive/NIH/model_vggnet.h5')"
      ],
      "execution_count": 0,
      "outputs": []
    },
    {
      "metadata": {
        "id": "--oyM_68f7cS",
        "colab_type": "code",
        "colab": {}
      },
      "cell_type": "code",
      "source": [
        "torch.save(model_dn,'/content/gdrive/My Drive/NIH/model_densenet.h5')"
      ],
      "execution_count": 0,
      "outputs": []
    },
    {
      "metadata": {
        "id": "u7Od2g0M8zh0",
        "colab_type": "code",
        "colab": {}
      },
      "cell_type": "code",
      "source": [
        "\n",
        "model = torch.load('/content/gdrive/My Drive/NIH/model_vggnet.h5')"
      ],
      "execution_count": 0,
      "outputs": []
    },
    {
      "metadata": {
        "id": "F-V5jyWzFKGS",
        "colab_type": "code",
        "outputId": "2e240e98-eb09-4518-a497-69b3d1d3a14a",
        "colab": {
          "base_uri": "https://localhost:8080/",
          "height": 35
        }
      },
      "cell_type": "code",
      "source": [
        "\n",
        "criterion = nn.CrossEntropyLoss()\n",
        "eval_model(model , criterion)"
      ],
      "execution_count": 102,
      "outputs": [
        {
          "output_type": "stream",
          "text": [
            "Loss : 1.4174613910061973  Acc :0.6428571428571428\n"
          ],
          "name": "stdout"
        }
      ]
    },
    {
      "metadata": {
        "id": "N2Pn-Sz9CFW8",
        "colab_type": "code",
        "outputId": "0f590ac2-7189-48da-a63f-22b379a37c63",
        "colab": {
          "base_uri": "https://localhost:8080/",
          "height": 210
        }
      },
      "cell_type": "code",
      "source": [
        "# Get a batch of training data\n",
        "inputs, classes = next(iter(test_dataloader))\n",
        "out = torchvision.utils.make_grid(inputs)\n",
        "l = [class_names[x] for x in classes]\n",
        "print(\"Actual labels are:\" , l) #actual\n",
        "\n",
        "inputs = inputs.to(device)\n",
        "classes = classes.to(device)\n",
        "outputs = model(inputs)\n",
        "_, preds = torch.max(outputs,1)\n",
        "p = [class_names[x] for x in preds]\n",
        "\n",
        "print(\"Predictions are:\", p) #prediction\n",
        "loss = criterion(outputs , classes)\n",
        "imshow(out, title=l)"
      ],
      "execution_count": 103,
      "outputs": [
        {
          "output_type": "stream",
          "text": [
            "Actual labels are: ['cardiomegaly', 'normal', 'normal', 'normal']\n",
            "Predictions are: ['opacity', 'normal', 'normal', 'normal']\n"
          ],
          "name": "stdout"
        },
        {
          "output_type": "display_data",
          "data": {
            "image/png": "[encoded data removed]",
            "text/plain": [
              "<Figure size 576x396 with 1 Axes>"
            ]
          },
          "metadata": {
            "tags": []
          }
        }
      ]
    },
    {
      "metadata": {
        "id": "cqTM29vURD4B",
        "colab_type": "code",
        "outputId": "163f0b42-a574-4598-91ca-40a483a56e24",
        "colab": {
          "base_uri": "https://localhost:8080/",
          "height": 35
        }
      },
      "cell_type": "code",
      "source": [
        "from PIL import Image\n",
        "from torch.autograd import Variable\n",
        "\n",
        "def predict_image(image):\n",
        "    image_tensor = test_datatrannsform(image).float()\n",
        "    image_tensor = Variable(image_tensor,requires_grad=True)\n",
        "    image_tensor = image_tensor.unsqueeze(0)\n",
        "    \n",
        "    return image_tensor.cuda()\n",
        "  \n",
        "\n",
        "im = Image.open('/content/gdrive/My Drive/NIH/train/opacity/14.png')  #imagepath\n",
        "to_pil = transforms.ToPILImage()\n",
        "trans1 = transforms.ToTensor()\n",
        "\n",
        "im1 = to_pil(trans1(im))\n",
        "\n",
        "\n",
        "ans = predict_image(im1)\n",
        "\n",
        "outp = model(ans)\n",
        "\n",
        "_, preds = torch.max(outp,1)\n",
        "p = [class_names[x] for x in preds]\n",
        "\n",
        "print(\"Predicted label for given image is:\", p) #prediction\n",
        "\n",
        "\n",
        "\n",
        "\n"
      ],
      "execution_count": 104,
      "outputs": [
        {
          "output_type": "stream",
          "text": [
            "Predicted label for given image is: ['opacity']\n"
          ],
          "name": "stdout"
        }
      ]
    },
    {
      "metadata": {
        "id": "PEqITDikS06t",
        "colab_type": "code",
        "colab": {
          "base_uri": "https://localhost:8080/",
          "height": 228
        },
        "outputId": "0d617ffb-7d7d-4dc8-80f7-1205ffb1fab6"
      },
      "cell_type": "code",
      "source": [
        "!pip install -U pandas_ml"
      ],
      "execution_count": 140,
      "outputs": [
        {
          "output_type": "stream",
          "text": [
            "Collecting pandas_ml\n",
            "\u001b[?25l  Downloading https://files.pythonhosted.org/packages/8c/cd/efa2c3c4ab89c03184e96692c7e288c8272b08614b52786cbadb3c7b50aa/pandas_ml-0.6.0-py3-none-any.whl (102kB)\n",
            "\u001b[K    100% |████████████████████████████████| 112kB 6.7MB/s \n",
            "\u001b[?25hRequirement already satisfied, skipping upgrade: pandas>=0.19.0 in /usr/local/lib/python3.6/dist-packages (from pandas_ml) (0.22.0)\n",
            "Requirement already satisfied, skipping upgrade: enum34 in /usr/local/lib/python3.6/dist-packages (from pandas_ml) (1.1.6)\n",
            "Requirement already satisfied, skipping upgrade: python-dateutil>=2 in /usr/local/lib/python3.6/dist-packages (from pandas>=0.19.0->pandas_ml) (2.5.3)\n",
            "Requirement already satisfied, skipping upgrade: pytz>=2011k in /usr/local/lib/python3.6/dist-packages (from pandas>=0.19.0->pandas_ml) (2018.9)\n",
            "Requirement already satisfied, skipping upgrade: numpy>=1.9.0 in /usr/local/lib/python3.6/dist-packages (from pandas>=0.19.0->pandas_ml) (1.14.6)\n",
            "Requirement already satisfied, skipping upgrade: six>=1.5 in /usr/local/lib/python3.6/dist-packages (from python-dateutil>=2->pandas>=0.19.0->pandas_ml) (1.11.0)\n",
            "Installing collected packages: pandas-ml\n",
            "Successfully installed pandas-ml-0.6.0\n"
          ],
          "name": "stdout"
        }
      ]
    },
    {
      "metadata": {
        "id": "Wuqt18-VYg0G",
        "colab_type": "code",
        "colab": {
          "base_uri": "https://localhost:8080/",
          "height": 1251
        },
        "outputId": "428c9462-c0a8-470d-bd3c-e659be1051cd"
      },
      "cell_type": "code",
      "source": [
        "from pandas_ml import ConfusionMatrix\n",
        "\n",
        "inputs, classes = next(iter(test_dataloader))\n",
        "out = torchvision.utils.make_grid(inputs)\n",
        "l = [class_names[x] for x in classes]\n",
        "\n",
        "inputs = inputs.to(device)\n",
        "classes = classes.to(device)\n",
        "outputs = model(inputs)\n",
        "_, preds = torch.max(outputs,1)\n",
        "p = [class_names[x] for x in preds]\n",
        "\n",
        "\n",
        "cm = ConfusionMatrix(l, p)\n",
        "cm.print_stats()"
      ],
      "execution_count": 147,
      "outputs": [
        {
          "output_type": "stream",
          "text": [
            "Confusion Matrix:\n",
            "\n",
            "Predicted     cardiomegaly  normal  opacity  __all__\n",
            "Actual                                              \n",
            "cardiomegaly             0       0        1        1\n",
            "normal                   0       3        0        3\n",
            "opacity                  0       0        0        0\n",
            "__all__                  0       3        1        4\n",
            "\n",
            "\n",
            "Overall Statistics:\n",
            "\n",
            "Accuracy: 0.75\n",
            "95% CI: (0.19412044968324343, 0.9936905367902902)\n",
            "No Information Rate: ToDo\n",
            "P-Value [Acc > NIR]: 0.73828125\n",
            "Kappa: 0.42857142857142855\n",
            "Mcnemar's Test P-Value: ToDo\n",
            "\n",
            "\n",
            "Class Statistics:\n",
            "\n",
            "Classes                               cardiomegaly normal opacity\n",
            "Population                                       4      4       4\n",
            "P: Condition positive                            1      3       0\n",
            "N: Condition negative                            3      1       4\n",
            "Test outcome positive                            0      3       1\n",
            "Test outcome negative                            4      1       3\n",
            "TP: True Positive                                0      3       0\n",
            "TN: True Negative                                3      1       3\n",
            "FP: False Positive                               0      0       1\n",
            "FN: False Negative                               1      0       0\n",
            "TPR: (Sensitivity, hit rate, recall)             0      1     NaN\n",
            "TNR=SPC: (Specificity)                           1      1    0.75\n",
            "PPV: Pos Pred Value (Precision)                NaN      1       0\n",
            "NPV: Neg Pred Value                           0.75      1       1\n",
            "FPR: False-out                                   0      0    0.25\n",
            "FDR: False Discovery Rate                      NaN      0       1\n",
            "FNR: Miss Rate                                   1      0     NaN\n",
            "ACC: Accuracy                                 0.75      1    0.75\n",
            "F1 score                                         0      1       0\n",
            "MCC: Matthews correlation coefficient          NaN      1     NaN\n",
            "Informedness                                     0      1     NaN\n",
            "Markedness                                     NaN      1       0\n",
            "Prevalence                                    0.25   0.75       0\n",
            "LR+: Positive likelihood ratio                 NaN    inf     NaN\n",
            "LR-: Negative likelihood ratio                   1      0     NaN\n",
            "DOR: Diagnostic odds ratio                     NaN    inf     NaN\n",
            "FOR: False omission rate                      0.25      0       0\n"
          ],
          "name": "stdout"
        },
        {
          "output_type": "stream",
          "text": [
            "/usr/local/lib/python3.6/dist-packages/pandas_ml/confusion_matrix/abstract.py:66: FutureWarning: \n",
            "Passing list-likes to .loc or [] with any missing label will raise\n",
            "KeyError in the future, you can use .reindex() as an alternative.\n",
            "\n",
            "See the documentation here:\n",
            "http://pandas.pydata.org/pandas-docs/stable/indexing.html#deprecate-loc-reindex-listlike\n",
            "  df = df.loc[idx, idx.copy()].fillna(0)  # if some columns or rows are missing\n",
            "/usr/local/lib/python3.6/dist-packages/pandas_ml/confusion_matrix/bcm.py:236: RuntimeWarning: invalid value encountered in double_scalars\n",
            "  return(np.float64(self.TP) / self.PositiveTest)\n",
            "/usr/local/lib/python3.6/dist-packages/pandas_ml/confusion_matrix/bcm.py:267: RuntimeWarning: invalid value encountered in double_scalars\n",
            "  return(np.float64(self.FP) / self.PositiveTest)\n",
            "/usr/local/lib/python3.6/dist-packages/pandas_ml/confusion_matrix/bcm.py:302: RuntimeWarning: invalid value encountered in true_divide\n",
            "  * (self.TN + self.FP) * (self.TN + self.FN)))\n",
            "/usr/local/lib/python3.6/dist-packages/pandas_ml/confusion_matrix/bcm.py:330: RuntimeWarning: invalid value encountered in double_scalars\n",
            "  return(np.float64(self.TPR) / self.FPR)\n",
            "/usr/local/lib/python3.6/dist-packages/pandas_ml/confusion_matrix/bcm.py:330: RuntimeWarning: divide by zero encountered in double_scalars\n",
            "  return(np.float64(self.TPR) / self.FPR)\n",
            "/usr/local/lib/python3.6/dist-packages/pandas_ml/confusion_matrix/bcm.py:191: RuntimeWarning: invalid value encountered in double_scalars\n",
            "  return(np.float64(self.TP) / self.P)\n",
            "/usr/local/lib/python3.6/dist-packages/pandas_ml/confusion_matrix/bcm.py:276: RuntimeWarning: invalid value encountered in double_scalars\n",
            "  return(np.float64(self.FN) / self.P)\n"
          ],
          "name": "stderr"
        }
      ]
    }
  ]
}